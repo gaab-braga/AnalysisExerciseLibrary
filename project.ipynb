{
 "cells": [
  {
   "cell_type": "code",
   "execution_count": 1,
   "metadata": {},
   "outputs": [
    {
     "name": "stdout",
     "output_type": "stream",
     "text": [
      "Requirement already satisfied: pandas in c:\\users\\gafeb\\appdata\\local\\packages\\pythonsoftwarefoundation.python.3.11_qbz5n2kfra8p0\\localcache\\local-packages\\python311\\site-packages (2.2.2)\n",
      "Requirement already satisfied: numpy>=1.23.2 in c:\\users\\gafeb\\appdata\\local\\packages\\pythonsoftwarefoundation.python.3.11_qbz5n2kfra8p0\\localcache\\local-packages\\python311\\site-packages (from pandas) (2.0.0)\n",
      "Requirement already satisfied: python-dateutil>=2.8.2 in c:\\users\\gafeb\\appdata\\local\\packages\\pythonsoftwarefoundation.python.3.11_qbz5n2kfra8p0\\localcache\\local-packages\\python311\\site-packages (from pandas) (2.9.0.post0)\n",
      "Requirement already satisfied: pytz>=2020.1 in c:\\users\\gafeb\\appdata\\local\\packages\\pythonsoftwarefoundation.python.3.11_qbz5n2kfra8p0\\localcache\\local-packages\\python311\\site-packages (from pandas) (2024.1)\n",
      "Requirement already satisfied: tzdata>=2022.7 in c:\\users\\gafeb\\appdata\\local\\packages\\pythonsoftwarefoundation.python.3.11_qbz5n2kfra8p0\\localcache\\local-packages\\python311\\site-packages (from pandas) (2024.1)\n",
      "Requirement already satisfied: six>=1.5 in c:\\users\\gafeb\\appdata\\local\\packages\\pythonsoftwarefoundation.python.3.11_qbz5n2kfra8p0\\localcache\\local-packages\\python311\\site-packages (from python-dateutil>=2.8.2->pandas) (1.16.0)\n",
      "Note: you may need to restart the kernel to use updated packages.\n"
     ]
    },
    {
     "name": "stderr",
     "output_type": "stream",
     "text": [
      "\n",
      "[notice] A new release of pip is available: 24.0 -> 24.1.2\n",
      "[notice] To update, run: C:\\Users\\gafeb\\AppData\\Local\\Microsoft\\WindowsApps\\PythonSoftwareFoundation.Python.3.11_qbz5n2kfra8p0\\python.exe -m pip install --upgrade pip\n"
     ]
    }
   ],
   "source": [
    "%pip install pandas"
   ]
  },
  {
   "cell_type": "code",
   "execution_count": 1,
   "metadata": {},
   "outputs": [],
   "source": [
    "import pandas as pd\n",
    "\n",
    "\n",
    "# Acessando dataset bruto no GitHub\n",
    "dados_2010_1 = pd.read_csv('https://raw.github.com/FranciscoFoz/7_Days_of_Code_Alura-Python-Pandas/main/Dia_1-Importando_dados/Datasets/dados_emprestimos/emprestimos-20101.csv')\n",
    "dados_2010_2 = pd.read_csv('https://raw.github.com/FranciscoFoz/7_Days_of_Code_Alura-Python-Pandas/main/Dia_1-Importando_dados/Datasets/dados_emprestimos/emprestimos-20102.csv')\n",
    "dados_2011_1 = pd.read_csv('https://raw.github.com/FranciscoFoz/7_Days_of_Code_Alura-Python-Pandas/main/Dia_1-Importando_dados/Datasets/dados_emprestimos/emprestimos-20111.csv')\n",
    "dados_2011_2 = pd.read_csv('https://raw.github.com/FranciscoFoz/7_Days_of_Code_Alura-Python-Pandas/main/Dia_1-Importando_dados/Datasets/dados_emprestimos/emprestimos-20112.csv')\n",
    "dados_2012_1 = pd.read_csv('https://raw.github.com/FranciscoFoz/7_Days_of_Code_Alura-Python-Pandas/main/Dia_1-Importando_dados/Datasets/dados_emprestimos/emprestimos-20121.csv')\n",
    "dados_2012_2 = pd.read_csv('https://raw.github.com/FranciscoFoz/7_Days_of_Code_Alura-Python-Pandas/main/Dia_1-Importando_dados/Datasets/dados_emprestimos/emprestimos-20122.csv')\n",
    "dados_2013_1 = pd.read_csv('https://raw.github.com/FranciscoFoz/7_Days_of_Code_Alura-Python-Pandas/main/Dia_1-Importando_dados/Datasets/dados_emprestimos/emprestimos-20131.csv')\n",
    "dados_2013_2 = pd.read_csv('https://raw.github.com/FranciscoFoz/7_Days_of_Code_Alura-Python-Pandas/main/Dia_1-Importando_dados/Datasets/dados_emprestimos/emprestimos-20132.csv')\n",
    "dados_2014_1 = pd.read_csv('https://raw.github.com/FranciscoFoz/7_Days_of_Code_Alura-Python-Pandas/main/Dia_1-Importando_dados/Datasets/dados_emprestimos/emprestimos-20141.csv')\n",
    "dados_2014_2 = pd.read_csv('https://raw.github.com/FranciscoFoz/7_Days_of_Code_Alura-Python-Pandas/main/Dia_1-Importando_dados/Datasets/dados_emprestimos/emprestimos-20142.csv')\n",
    "dados_2015_1 = pd.read_csv('https://raw.github.com/FranciscoFoz/7_Days_of_Code_Alura-Python-Pandas/main/Dia_1-Importando_dados/Datasets/dados_emprestimos/emprestimos-20151.csv')\n",
    "dados_2015_2 = pd.read_csv('https://raw.github.com/FranciscoFoz/7_Days_of_Code_Alura-Python-Pandas/main/Dia_1-Importando_dados/Datasets/dados_emprestimos/emprestimos-20152.csv')\n",
    "dados_2016_1 = pd.read_csv('https://raw.github.com/FranciscoFoz/7_Days_of_Code_Alura-Python-Pandas/main/Dia_1-Importando_dados/Datasets/dados_emprestimos/emprestimos-20161.csv')\n",
    "dados_2016_2 = pd.read_csv('https://raw.github.com/FranciscoFoz/7_Days_of_Code_Alura-Python-Pandas/main/Dia_1-Importando_dados/Datasets/dados_emprestimos/emprestimos-20162.csv')\n",
    "dados_2017_1 = pd.read_csv('https://raw.github.com/FranciscoFoz/7_Days_of_Code_Alura-Python-Pandas/main/Dia_1-Importando_dados/Datasets/dados_emprestimos/emprestimos-20171.csv')\n",
    "dados_2017_2 = pd.read_csv('https://raw.github.com/FranciscoFoz/7_Days_of_Code_Alura-Python-Pandas/main/Dia_1-Importando_dados/Datasets/dados_emprestimos/emprestimos-20172.csv')\n",
    "dados_2018_1 = pd.read_csv('https://raw.github.com/FranciscoFoz/7_Days_of_Code_Alura-Python-Pandas/main/Dia_1-Importando_dados/Datasets/dados_emprestimos/emprestimos-20181.csv')\n",
    "dados_2018_2 = pd.read_csv('https://raw.github.com/FranciscoFoz/7_Days_of_Code_Alura-Python-Pandas/main/Dia_1-Importando_dados/Datasets/dados_emprestimos/emprestimos-20182.csv')\n",
    "dados_2019_1 = pd.read_csv('https://raw.github.com/FranciscoFoz/7_Days_of_Code_Alura-Python-Pandas/main/Dia_1-Importando_dados/Datasets/dados_emprestimos/emprestimos-20191.csv')\n",
    "dados_2019_2 = pd.read_csv('https://raw.github.com/FranciscoFoz/7_Days_of_Code_Alura-Python-Pandas/main/Dia_1-Importando_dados/Datasets/dados_emprestimos/emprestimos-20192.csv')\n",
    "dados_2020_1 = pd.read_csv('https://raw.github.com/FranciscoFoz/7_Days_of_Code_Alura-Python-Pandas/main/Dia_1-Importando_dados/Datasets/dados_emprestimos/emprestimos-20201.csv')\n",
    "\n",
    "# Outra forma de acessar o dataset bruto\n",
    "# \n",
    "# anos = range(2010, 2021)\n",
    "# semestres = [1, 2]\n",
    "# dataframes = []\n",
    "#\n",
    "# for ano in anos:\n",
    "#    for semestre in semestres:\n",
    "#         # Formatar a URL com o ano e semestre\n",
    "#         url = f'https://raw.githubusercontent.com/FranciscoFoz/7_Days_of_Code_Alura-Python-Pandas/main/Dia_1-Importando_dados/Datasets/dados_emprestimos/emprestimos-{ano}{semestre}.csv'\n",
    "#        \n",
    "#        try:\n",
    "#            # Ler o dataset usando pandas\n",
    "#            df = pd.read_csv(url)\n",
    "#            \n",
    "#            # Adicionar o DataFrame à lista\n",
    "#            dataframes.append(df)\n",
    "#            \n",
    "#            # Exibir o dataset de forma interativa\n",
    "#            display(HTML(df.to_html()))\n",
    "#        except Exception as e:\n",
    "#            print(f'Erro ao carregar dados do ano {ano} semestre {semestre}: {e}')"
   ]
  },
  {
   "cell_type": "code",
   "execution_count": 3,
   "metadata": {},
   "outputs": [
    {
     "data": {
      "text/html": [
       "<div>\n",
       "<style scoped>\n",
       "    .dataframe tbody tr th:only-of-type {\n",
       "        vertical-align: middle;\n",
       "    }\n",
       "\n",
       "    .dataframe tbody tr th {\n",
       "        vertical-align: top;\n",
       "    }\n",
       "\n",
       "    .dataframe thead th {\n",
       "        text-align: right;\n",
       "    }\n",
       "</style>\n",
       "<table border=\"1\" class=\"dataframe\">\n",
       "  <thead>\n",
       "    <tr style=\"text-align: right;\">\n",
       "      <th></th>\n",
       "      <th>id_emprestimo</th>\n",
       "      <th>codigo_barras</th>\n",
       "      <th>data_renovacao</th>\n",
       "      <th>data_emprestimo</th>\n",
       "      <th>data_devolucao</th>\n",
       "      <th>matricula_ou_siape</th>\n",
       "      <th>tipo_vinculo_usuario</th>\n",
       "    </tr>\n",
       "  </thead>\n",
       "  <tbody>\n",
       "    <tr>\n",
       "      <th>0</th>\n",
       "      <td>709684</td>\n",
       "      <td>L095049</td>\n",
       "      <td>NaN</td>\n",
       "      <td>2010/01/04 07:44:10.721000000</td>\n",
       "      <td>2010/01/05 16:26:12.662000000</td>\n",
       "      <td>2.008023e+09</td>\n",
       "      <td>ALUNO DE GRADUAÇÃO</td>\n",
       "    </tr>\n",
       "    <tr>\n",
       "      <th>1</th>\n",
       "      <td>709685</td>\n",
       "      <td>L167050</td>\n",
       "      <td>NaN</td>\n",
       "      <td>2010/01/04 07:44:10.750000000</td>\n",
       "      <td>2010/01/12 07:34:13.934000000</td>\n",
       "      <td>2.008023e+09</td>\n",
       "      <td>ALUNO DE GRADUAÇÃO</td>\n",
       "    </tr>\n",
       "    <tr>\n",
       "      <th>2</th>\n",
       "      <td>709686</td>\n",
       "      <td>2006017618</td>\n",
       "      <td>2010/01/26 08:07:01.738000000</td>\n",
       "      <td>2010/01/04 08:08:44.081000000</td>\n",
       "      <td>2010/02/25 07:36:25.800000000</td>\n",
       "      <td>2.008112e+09</td>\n",
       "      <td>ALUNO DE PÓS-GRADUAÇÃO</td>\n",
       "    </tr>\n",
       "    <tr>\n",
       "      <th>3</th>\n",
       "      <td>709687</td>\n",
       "      <td>L184117</td>\n",
       "      <td>2010/01/18 11:07:46.470000000</td>\n",
       "      <td>2010/01/04 08:24:21.284000000</td>\n",
       "      <td>2010/02/03 08:58:45.692000000</td>\n",
       "      <td>2.007211e+08</td>\n",
       "      <td>ALUNO DE GRADUAÇÃO</td>\n",
       "    </tr>\n",
       "    <tr>\n",
       "      <th>4</th>\n",
       "      <td>709684</td>\n",
       "      <td>L095049</td>\n",
       "      <td>NaN</td>\n",
       "      <td>2010/01/04 07:44:10.721000000</td>\n",
       "      <td>2010/01/05 16:26:12.662000000</td>\n",
       "      <td>2.008023e+09</td>\n",
       "      <td>ALUNO DE GRADUAÇÃO</td>\n",
       "    </tr>\n",
       "    <tr>\n",
       "      <th>...</th>\n",
       "      <td>...</td>\n",
       "      <td>...</td>\n",
       "      <td>...</td>\n",
       "      <td>...</td>\n",
       "      <td>...</td>\n",
       "      <td>...</td>\n",
       "      <td>...</td>\n",
       "    </tr>\n",
       "    <tr>\n",
       "      <th>26556</th>\n",
       "      <td>2989086</td>\n",
       "      <td>2008047044</td>\n",
       "      <td>NaN</td>\n",
       "      <td>2020/05/05 19:51:06.059000000</td>\n",
       "      <td>2021/05/13 14:53:31.000000000</td>\n",
       "      <td>3.067431e+06</td>\n",
       "      <td>SERVIDOR TÉCNICO-ADMINISTRATIVO</td>\n",
       "    </tr>\n",
       "    <tr>\n",
       "      <th>26557</th>\n",
       "      <td>2989087</td>\n",
       "      <td>2008047047</td>\n",
       "      <td>NaN</td>\n",
       "      <td>2020/05/05 19:51:06.135000000</td>\n",
       "      <td>2021/05/13 14:53:38.000000000</td>\n",
       "      <td>3.067431e+06</td>\n",
       "      <td>SERVIDOR TÉCNICO-ADMINISTRATIVO</td>\n",
       "    </tr>\n",
       "    <tr>\n",
       "      <th>26558</th>\n",
       "      <td>2989088</td>\n",
       "      <td>2010052905</td>\n",
       "      <td>NaN</td>\n",
       "      <td>2020/05/05 19:51:06.164000000</td>\n",
       "      <td>2021/05/13 15:01:46.000000000</td>\n",
       "      <td>3.067431e+06</td>\n",
       "      <td>SERVIDOR TÉCNICO-ADMINISTRATIVO</td>\n",
       "    </tr>\n",
       "    <tr>\n",
       "      <th>26559</th>\n",
       "      <td>2989089</td>\n",
       "      <td>2010048023</td>\n",
       "      <td>NaN</td>\n",
       "      <td>2020/06/09 11:54:02.669000000</td>\n",
       "      <td>2021/07/21 15:33:55.000000000</td>\n",
       "      <td>2.020101e+10</td>\n",
       "      <td>ALUNO DE PÓS-GRADUAÇÃO</td>\n",
       "    </tr>\n",
       "    <tr>\n",
       "      <th>26560</th>\n",
       "      <td>2989090</td>\n",
       "      <td>2013106838</td>\n",
       "      <td>NaN</td>\n",
       "      <td>2020/06/09 11:54:02.852000000</td>\n",
       "      <td>2021/07/21 15:33:45.000000000</td>\n",
       "      <td>2.020101e+10</td>\n",
       "      <td>ALUNO DE PÓS-GRADUAÇÃO</td>\n",
       "    </tr>\n",
       "  </tbody>\n",
       "</table>\n",
       "<p>2258018 rows × 7 columns</p>\n",
       "</div>"
      ],
      "text/plain": [
       "       id_emprestimo codigo_barras                 data_renovacao  \\\n",
       "0             709684       L095049                            NaN   \n",
       "1             709685       L167050                            NaN   \n",
       "2             709686    2006017618  2010/01/26 08:07:01.738000000   \n",
       "3             709687       L184117  2010/01/18 11:07:46.470000000   \n",
       "4             709684       L095049                            NaN   \n",
       "...              ...           ...                            ...   \n",
       "26556        2989086    2008047044                            NaN   \n",
       "26557        2989087    2008047047                            NaN   \n",
       "26558        2989088    2010052905                            NaN   \n",
       "26559        2989089    2010048023                            NaN   \n",
       "26560        2989090    2013106838                            NaN   \n",
       "\n",
       "                     data_emprestimo                 data_devolucao  \\\n",
       "0      2010/01/04 07:44:10.721000000  2010/01/05 16:26:12.662000000   \n",
       "1      2010/01/04 07:44:10.750000000  2010/01/12 07:34:13.934000000   \n",
       "2      2010/01/04 08:08:44.081000000  2010/02/25 07:36:25.800000000   \n",
       "3      2010/01/04 08:24:21.284000000  2010/02/03 08:58:45.692000000   \n",
       "4      2010/01/04 07:44:10.721000000  2010/01/05 16:26:12.662000000   \n",
       "...                              ...                            ...   \n",
       "26556  2020/05/05 19:51:06.059000000  2021/05/13 14:53:31.000000000   \n",
       "26557  2020/05/05 19:51:06.135000000  2021/05/13 14:53:38.000000000   \n",
       "26558  2020/05/05 19:51:06.164000000  2021/05/13 15:01:46.000000000   \n",
       "26559  2020/06/09 11:54:02.669000000  2021/07/21 15:33:55.000000000   \n",
       "26560  2020/06/09 11:54:02.852000000  2021/07/21 15:33:45.000000000   \n",
       "\n",
       "       matricula_ou_siape             tipo_vinculo_usuario  \n",
       "0            2.008023e+09               ALUNO DE GRADUAÇÃO  \n",
       "1            2.008023e+09               ALUNO DE GRADUAÇÃO  \n",
       "2            2.008112e+09           ALUNO DE PÓS-GRADUAÇÃO  \n",
       "3            2.007211e+08               ALUNO DE GRADUAÇÃO  \n",
       "4            2.008023e+09               ALUNO DE GRADUAÇÃO  \n",
       "...                   ...                              ...  \n",
       "26556        3.067431e+06  SERVIDOR TÉCNICO-ADMINISTRATIVO  \n",
       "26557        3.067431e+06  SERVIDOR TÉCNICO-ADMINISTRATIVO  \n",
       "26558        3.067431e+06  SERVIDOR TÉCNICO-ADMINISTRATIVO  \n",
       "26559        2.020101e+10           ALUNO DE PÓS-GRADUAÇÃO  \n",
       "26560        2.020101e+10           ALUNO DE PÓS-GRADUAÇÃO  \n",
       "\n",
       "[2258018 rows x 7 columns]"
      ]
     },
     "execution_count": 3,
     "metadata": {},
     "output_type": "execute_result"
    }
   ],
   "source": [
    "# Concatenando todos os datasets\n",
    "\n",
    "emprestimos_biblioteca = pd.concat([dados_2010_1, dados_2010_2, dados_2011_1, dados_2011_2, dados_2012_1, dados_2012_2, dados_2013_1, dados_2013_2, dados_2014_1, dados_2014_2, dados_2015_1, dados_2015_2, dados_2016_1, dados_2016_2, dados_2017_1, dados_2017_2, dados_2018_1, dados_2018_2, dados_2019_1, dados_2019_2, dados_2020_1])\n",
    "emprestimos_biblioteca\n",
    "\n",
    "\n",
    "# Verificar se há valores nulos para saber se é necessário tratá-los\n",
    "#\n",
    "# num_linhas_com_nulos = emprestimos_biblioteca.isnull().any(axis=1).sum()\n",
    "# print(f'Total de linhas com pelo menos um valor nulo: {num_linhas_com_nulos}') # 1289964 linhas com valores nulos\n",
    "#\n",
    "# Contar as linhas com mais de um valor nulo\n",
    "#\n",
    "# num_linhas_com_mais_de_um_nulo = ((emprestimos_biblioteca.isnull().sum(axis=1)) > 1).sum()\n",
    "# print(f'Total de linhas com mais de um valor nulo: {num_linhas_com_mais_de_um_nulo}') #5387 linhas com mais de um valor nulo\n",
    "#\n",
    "# como remover linhas com pelo menos um valor nulo vai ter alto custo de perda de informação (57%) vou remover apenas as linhas com mais de um valor nulo  \n",
    "# Remover linhas com pelo menos um campo nulo\n",
    "#   df = df.dropna(how='any')\n",
    "# Remover linhas com mais de um campo nulo\n",
    "#   df = df.dropna(thresh = 2) "
   ]
  },
  {
   "cell_type": "code",
   "execution_count": 4,
   "metadata": {},
   "outputs": [],
   "source": [
    "# Verificar se há valores duplicados\n",
    "\n",
    "num_linhas_duplicadas = emprestimos_biblioteca.value_counts()"
   ]
  },
  {
   "cell_type": "code",
   "execution_count": 5,
   "metadata": {},
   "outputs": [
    {
     "data": {
      "text/plain": [
       "id_emprestimo  codigo_barras  data_renovacao                 data_emprestimo                data_devolucao                 matricula_ou_siape  tipo_vinculo_usuario  \n",
       "10322328       2014070441     2018/01/15 12:26:00.697000000  2017/12/29 18:21:09.060000000  2018/01/31 18:50:25.000000000  2.014063e+09        ALUNO DE GRADUAÇÃO        1\n",
       "709686         2006017618     2010/01/26 08:07:01.738000000  2010/01/04 08:08:44.081000000  2010/02/25 07:36:25.800000000  2.008112e+09        ALUNO DE PÓS-GRADUAÇÃO    1\n",
       "709687         L184117        2010/01/18 11:07:46.470000000  2010/01/04 08:24:21.284000000  2010/02/03 08:58:45.692000000  2.007211e+08        ALUNO DE GRADUAÇÃO        1\n",
       "709688         2007027500     2010/01/19 15:59:26.464000000  2010/01/04 08:27:33.569000000  2010/02/03 13:06:30.662000000  2.009046e+09        ALUNO DE GRADUAÇÃO        1\n",
       "709689         L157395        2010/01/19 15:59:26.447000000  2010/01/04 08:27:33.596000000  2010/02/03 13:06:43.125000000  2.009046e+09        ALUNO DE GRADUAÇÃO        1\n",
       "                                                                                                                                                                        ..\n",
       "709717         2007019241     2010/01/19 13:46:16.545000000  2010/01/04 10:29:19.777000000  2010/02/03 08:06:10.018000000  2.006156e+08        ALUNO DE GRADUAÇÃO        1\n",
       "709716         L107038        2010/01/19 13:46:16.556000000  2010/01/04 10:29:19.747000000  2010/02/03 08:06:24.253000000  2.006156e+08        ALUNO DE GRADUAÇÃO        1\n",
       "709715         L200359        2010/01/19 14:38:53.133000000  2010/01/04 10:28:01.480000000  2010/02/01 14:41:13.147000000  2.010079e+09        ALUNO DE GRADUAÇÃO        1\n",
       "709709         2009011815     2010/02/03 12:58:49.734000000  2010/01/04 10:02:59.828000000  2010/03/02 16:38:38.231000000  2.008107e+09        ALUNO DE PÓS-GRADUAÇÃO    1\n",
       "709706         2009032010     2010/01/17 18:56:43.869000000  2010/01/04 09:58:46.575000000  2010/02/01 13:58:46.387000000  2.008010e+09        ALUNO DE GRADUAÇÃO        1\n",
       "Name: count, Length: 968028, dtype: int64"
      ]
     },
     "execution_count": 5,
     "metadata": {},
     "output_type": "execute_result"
    }
   ],
   "source": [
    "# Remover linhas duplicadas\n",
    "\n",
    "emprestimos_biblioteca.drop_duplicates(inplace=True)\n",
    "emprestimos_biblioteca.value_counts()"
   ]
  },
  {
   "cell_type": "code",
   "execution_count": 6,
   "metadata": {},
   "outputs": [
    {
     "name": "stdout",
     "output_type": "stream",
     "text": [
      "Requirement already satisfied: pyarrow in c:\\users\\gafeb\\appdata\\local\\packages\\pythonsoftwarefoundation.python.3.11_qbz5n2kfra8p0\\localcache\\local-packages\\python311\\site-packages (17.0.0)\n",
      "Requirement already satisfied: numpy>=1.16.6 in c:\\users\\gafeb\\appdata\\local\\packages\\pythonsoftwarefoundation.python.3.11_qbz5n2kfra8p0\\localcache\\local-packages\\python311\\site-packages (from pyarrow) (2.0.0)\n",
      "Note: you may need to restart the kernel to use updated packages.\n"
     ]
    },
    {
     "name": "stderr",
     "output_type": "stream",
     "text": [
      "\n",
      "[notice] A new release of pip is available: 24.0 -> 24.1.2\n",
      "[notice] To update, run: C:\\Users\\gafeb\\AppData\\Local\\Microsoft\\WindowsApps\\PythonSoftwareFoundation.Python.3.11_qbz5n2kfra8p0\\python.exe -m pip install --upgrade pip\n"
     ]
    },
    {
     "name": "stdout",
     "output_type": "stream",
     "text": [
      "Requirement already satisfied: fastparquet in c:\\users\\gafeb\\appdata\\local\\packages\\pythonsoftwarefoundation.python.3.11_qbz5n2kfra8p0\\localcache\\local-packages\\python311\\site-packages (2024.5.0)\n",
      "Requirement already satisfied: pandas>=1.5.0 in c:\\users\\gafeb\\appdata\\local\\packages\\pythonsoftwarefoundation.python.3.11_qbz5n2kfra8p0\\localcache\\local-packages\\python311\\site-packages (from fastparquet) (2.2.2)\n",
      "Requirement already satisfied: numpy in c:\\users\\gafeb\\appdata\\local\\packages\\pythonsoftwarefoundation.python.3.11_qbz5n2kfra8p0\\localcache\\local-packages\\python311\\site-packages (from fastparquet) (2.0.0)\n",
      "Requirement already satisfied: cramjam>=2.3 in c:\\users\\gafeb\\appdata\\local\\packages\\pythonsoftwarefoundation.python.3.11_qbz5n2kfra8p0\\localcache\\local-packages\\python311\\site-packages (from fastparquet) (2.8.3)\n",
      "Requirement already satisfied: fsspec in c:\\users\\gafeb\\appdata\\local\\packages\\pythonsoftwarefoundation.python.3.11_qbz5n2kfra8p0\\localcache\\local-packages\\python311\\site-packages (from fastparquet) (2024.6.1)\n",
      "Requirement already satisfied: packaging in c:\\users\\gafeb\\appdata\\local\\packages\\pythonsoftwarefoundation.python.3.11_qbz5n2kfra8p0\\localcache\\local-packages\\python311\\site-packages (from fastparquet) (24.1)\n",
      "Requirement already satisfied: python-dateutil>=2.8.2 in c:\\users\\gafeb\\appdata\\local\\packages\\pythonsoftwarefoundation.python.3.11_qbz5n2kfra8p0\\localcache\\local-packages\\python311\\site-packages (from pandas>=1.5.0->fastparquet) (2.9.0.post0)\n",
      "Requirement already satisfied: pytz>=2020.1 in c:\\users\\gafeb\\appdata\\local\\packages\\pythonsoftwarefoundation.python.3.11_qbz5n2kfra8p0\\localcache\\local-packages\\python311\\site-packages (from pandas>=1.5.0->fastparquet) (2024.1)\n",
      "Requirement already satisfied: tzdata>=2022.7 in c:\\users\\gafeb\\appdata\\local\\packages\\pythonsoftwarefoundation.python.3.11_qbz5n2kfra8p0\\localcache\\local-packages\\python311\\site-packages (from pandas>=1.5.0->fastparquet) (2024.1)\n",
      "Requirement already satisfied: six>=1.5 in c:\\users\\gafeb\\appdata\\local\\packages\\pythonsoftwarefoundation.python.3.11_qbz5n2kfra8p0\\localcache\\local-packages\\python311\\site-packages (from python-dateutil>=2.8.2->pandas>=1.5.0->fastparquet) (1.16.0)\n",
      "Note: you may need to restart the kernel to use updated packages.\n"
     ]
    },
    {
     "name": "stderr",
     "output_type": "stream",
     "text": [
      "\n",
      "[notice] A new release of pip is available: 24.0 -> 24.1.2\n",
      "[notice] To update, run: C:\\Users\\gafeb\\AppData\\Local\\Microsoft\\WindowsApps\\PythonSoftwareFoundation.Python.3.11_qbz5n2kfra8p0\\python.exe -m pip install --upgrade pip\n"
     ]
    },
    {
     "data": {
      "text/html": [
       "<div>\n",
       "<style scoped>\n",
       "    .dataframe tbody tr th:only-of-type {\n",
       "        vertical-align: middle;\n",
       "    }\n",
       "\n",
       "    .dataframe tbody tr th {\n",
       "        vertical-align: top;\n",
       "    }\n",
       "\n",
       "    .dataframe thead th {\n",
       "        text-align: right;\n",
       "    }\n",
       "</style>\n",
       "<table border=\"1\" class=\"dataframe\">\n",
       "  <thead>\n",
       "    <tr style=\"text-align: right;\">\n",
       "      <th></th>\n",
       "      <th>id_exemplar</th>\n",
       "      <th>codigo_barras</th>\n",
       "      <th>colecao</th>\n",
       "      <th>biblioteca</th>\n",
       "      <th>status_material</th>\n",
       "      <th>localizacao</th>\n",
       "      <th>registro_sistema</th>\n",
       "    </tr>\n",
       "    <tr>\n",
       "      <th>index</th>\n",
       "      <th></th>\n",
       "      <th></th>\n",
       "      <th></th>\n",
       "      <th></th>\n",
       "      <th></th>\n",
       "      <th></th>\n",
       "      <th></th>\n",
       "    </tr>\n",
       "  </thead>\n",
       "  <tbody>\n",
       "    <tr>\n",
       "      <th>0</th>\n",
       "      <td>5</td>\n",
       "      <td>L000003</td>\n",
       "      <td>Acervo Circulante</td>\n",
       "      <td>Biblioteca Central Zila Mamede</td>\n",
       "      <td>REGULAR</td>\n",
       "      <td>694</td>\n",
       "      <td>1</td>\n",
       "    </tr>\n",
       "    <tr>\n",
       "      <th>1</th>\n",
       "      <td>4</td>\n",
       "      <td>L000002</td>\n",
       "      <td>Acervo Circulante</td>\n",
       "      <td>Biblioteca Central Zila Mamede</td>\n",
       "      <td>REGULAR</td>\n",
       "      <td>688</td>\n",
       "      <td>1</td>\n",
       "    </tr>\n",
       "    <tr>\n",
       "      <th>2</th>\n",
       "      <td>3</td>\n",
       "      <td>L000001</td>\n",
       "      <td>Acervo Circulante</td>\n",
       "      <td>Biblioteca Central Zila Mamede</td>\n",
       "      <td>ESPECIAL</td>\n",
       "      <td>638</td>\n",
       "      <td>1</td>\n",
       "    </tr>\n",
       "    <tr>\n",
       "      <th>3</th>\n",
       "      <td>7</td>\n",
       "      <td>L000114</td>\n",
       "      <td>Acervo Circulante</td>\n",
       "      <td>Biblioteca Central Zila Mamede</td>\n",
       "      <td>REGULAR</td>\n",
       "      <td>616</td>\n",
       "      <td>5</td>\n",
       "    </tr>\n",
       "    <tr>\n",
       "      <th>5</th>\n",
       "      <td>10</td>\n",
       "      <td>L000041</td>\n",
       "      <td>Acervo Circulante</td>\n",
       "      <td>Biblioteca Central Zila Mamede</td>\n",
       "      <td>ESPECIAL</td>\n",
       "      <td>657</td>\n",
       "      <td>15</td>\n",
       "    </tr>\n",
       "    <tr>\n",
       "      <th>...</th>\n",
       "      <td>...</td>\n",
       "      <td>...</td>\n",
       "      <td>...</td>\n",
       "      <td>...</td>\n",
       "      <td>...</td>\n",
       "      <td>...</td>\n",
       "      <td>...</td>\n",
       "    </tr>\n",
       "    <tr>\n",
       "      <th>568580</th>\n",
       "      <td>1353472</td>\n",
       "      <td>2021011150</td>\n",
       "      <td>Acervo Circulante</td>\n",
       "      <td>Biblioteca Setorial do Núcleo de Educação da I...</td>\n",
       "      <td>REGULAR</td>\n",
       "      <td>951</td>\n",
       "      <td>268231</td>\n",
       "    </tr>\n",
       "    <tr>\n",
       "      <th>568581</th>\n",
       "      <td>1353473</td>\n",
       "      <td>2019013454</td>\n",
       "      <td>Acervo Circulante</td>\n",
       "      <td>Biblioteca Central Zila Mamede</td>\n",
       "      <td>ESPECIAL</td>\n",
       "      <td>997</td>\n",
       "      <td>268233</td>\n",
       "    </tr>\n",
       "    <tr>\n",
       "      <th>568582</th>\n",
       "      <td>1353474</td>\n",
       "      <td>2019012811</td>\n",
       "      <td>Acervo Circulante</td>\n",
       "      <td>Biblioteca Central Zila Mamede</td>\n",
       "      <td>ESPECIAL</td>\n",
       "      <td>987</td>\n",
       "      <td>268234</td>\n",
       "    </tr>\n",
       "    <tr>\n",
       "      <th>568583</th>\n",
       "      <td>1353475</td>\n",
       "      <td>2019013451</td>\n",
       "      <td>Acervo Circulante</td>\n",
       "      <td>Biblioteca Central Zila Mamede</td>\n",
       "      <td>ESPECIAL</td>\n",
       "      <td>764</td>\n",
       "      <td>268235</td>\n",
       "    </tr>\n",
       "    <tr>\n",
       "      <th>568584</th>\n",
       "      <td>1353476</td>\n",
       "      <td>2019012276</td>\n",
       "      <td>Acervo Circulante</td>\n",
       "      <td>Biblioteca Central Zila Mamede</td>\n",
       "      <td>ESPECIAL</td>\n",
       "      <td>962</td>\n",
       "      <td>268236</td>\n",
       "    </tr>\n",
       "  </tbody>\n",
       "</table>\n",
       "<p>546237 rows × 7 columns</p>\n",
       "</div>"
      ],
      "text/plain": [
       "        id_exemplar codigo_barras            colecao  \\\n",
       "index                                                  \n",
       "0                 5       L000003  Acervo Circulante   \n",
       "1                 4       L000002  Acervo Circulante   \n",
       "2                 3       L000001  Acervo Circulante   \n",
       "3                 7       L000114  Acervo Circulante   \n",
       "5                10       L000041  Acervo Circulante   \n",
       "...             ...           ...                ...   \n",
       "568580      1353472    2021011150  Acervo Circulante   \n",
       "568581      1353473    2019013454  Acervo Circulante   \n",
       "568582      1353474    2019012811  Acervo Circulante   \n",
       "568583      1353475    2019013451  Acervo Circulante   \n",
       "568584      1353476    2019012276  Acervo Circulante   \n",
       "\n",
       "                                               biblioteca status_material  \\\n",
       "index                                                                       \n",
       "0                          Biblioteca Central Zila Mamede         REGULAR   \n",
       "1                          Biblioteca Central Zila Mamede         REGULAR   \n",
       "2                          Biblioteca Central Zila Mamede        ESPECIAL   \n",
       "3                          Biblioteca Central Zila Mamede         REGULAR   \n",
       "5                          Biblioteca Central Zila Mamede        ESPECIAL   \n",
       "...                                                   ...             ...   \n",
       "568580  Biblioteca Setorial do Núcleo de Educação da I...         REGULAR   \n",
       "568581                     Biblioteca Central Zila Mamede        ESPECIAL   \n",
       "568582                     Biblioteca Central Zila Mamede        ESPECIAL   \n",
       "568583                     Biblioteca Central Zila Mamede        ESPECIAL   \n",
       "568584                     Biblioteca Central Zila Mamede        ESPECIAL   \n",
       "\n",
       "        localizacao  registro_sistema  \n",
       "index                                  \n",
       "0               694                 1  \n",
       "1               688                 1  \n",
       "2               638                 1  \n",
       "3               616                 5  \n",
       "5               657                15  \n",
       "...             ...               ...  \n",
       "568580          951            268231  \n",
       "568581          997            268233  \n",
       "568582          987            268234  \n",
       "568583          764            268235  \n",
       "568584          962            268236  \n",
       "\n",
       "[546237 rows x 7 columns]"
      ]
     },
     "execution_count": 6,
     "metadata": {},
     "output_type": "execute_result"
    }
   ],
   "source": [
    "# Importar outro dataset\n",
    "\n",
    "%pip install pyarrow\n",
    "%pip install fastparquet\n",
    "dados_exemplares = pd.read_parquet('https://raw.githubusercontent.com/FranciscoFoz/7_Days_of_Code_Alura-Python-Pandas/main/Dia_1-Importando_dados/Datasets/dados_exemplares.parquet')\n",
    "dados_exemplares"
   ]
  },
  {
   "cell_type": "code",
   "execution_count": 7,
   "metadata": {},
   "outputs": [
    {
     "data": {
      "text/html": [
       "<div>\n",
       "<style scoped>\n",
       "    .dataframe tbody tr th:only-of-type {\n",
       "        vertical-align: middle;\n",
       "    }\n",
       "\n",
       "    .dataframe tbody tr th {\n",
       "        vertical-align: top;\n",
       "    }\n",
       "\n",
       "    .dataframe thead th {\n",
       "        text-align: right;\n",
       "    }\n",
       "</style>\n",
       "<table border=\"1\" class=\"dataframe\">\n",
       "  <thead>\n",
       "    <tr style=\"text-align: right;\">\n",
       "      <th></th>\n",
       "      <th>id_emprestimo</th>\n",
       "      <th>codigo_barras</th>\n",
       "      <th>data_renovacao</th>\n",
       "      <th>data_emprestimo</th>\n",
       "      <th>data_devolucao</th>\n",
       "      <th>matricula_ou_siape</th>\n",
       "      <th>tipo_vinculo_usuario</th>\n",
       "      <th>id_exemplar</th>\n",
       "      <th>colecao</th>\n",
       "      <th>biblioteca</th>\n",
       "      <th>status_material</th>\n",
       "      <th>localizacao</th>\n",
       "      <th>registro_sistema</th>\n",
       "    </tr>\n",
       "  </thead>\n",
       "  <tbody>\n",
       "    <tr>\n",
       "      <th>0</th>\n",
       "      <td>709684</td>\n",
       "      <td>L095049</td>\n",
       "      <td>NaN</td>\n",
       "      <td>2010/01/04 07:44:10.721000000</td>\n",
       "      <td>2010/01/05 16:26:12.662000000</td>\n",
       "      <td>2.008023e+09</td>\n",
       "      <td>ALUNO DE GRADUAÇÃO</td>\n",
       "      <td>13259</td>\n",
       "      <td>Acervo Circulante</td>\n",
       "      <td>Biblioteca Central Zila Mamede</td>\n",
       "      <td>REGULAR</td>\n",
       "      <td>630</td>\n",
       "      <td>4225</td>\n",
       "    </tr>\n",
       "    <tr>\n",
       "      <th>1</th>\n",
       "      <td>709685</td>\n",
       "      <td>L167050</td>\n",
       "      <td>NaN</td>\n",
       "      <td>2010/01/04 07:44:10.750000000</td>\n",
       "      <td>2010/01/12 07:34:13.934000000</td>\n",
       "      <td>2.008023e+09</td>\n",
       "      <td>ALUNO DE GRADUAÇÃO</td>\n",
       "      <td>70865</td>\n",
       "      <td>Acervo Circulante</td>\n",
       "      <td>Biblioteca Central Zila Mamede</td>\n",
       "      <td>REGULAR</td>\n",
       "      <td>647</td>\n",
       "      <td>25009</td>\n",
       "    </tr>\n",
       "    <tr>\n",
       "      <th>2</th>\n",
       "      <td>709686</td>\n",
       "      <td>2006017618</td>\n",
       "      <td>2010/01/26 08:07:01.738000000</td>\n",
       "      <td>2010/01/04 08:08:44.081000000</td>\n",
       "      <td>2010/02/25 07:36:25.800000000</td>\n",
       "      <td>2.008112e+09</td>\n",
       "      <td>ALUNO DE PÓS-GRADUAÇÃO</td>\n",
       "      <td>195347</td>\n",
       "      <td>Acervo Circulante</td>\n",
       "      <td>Biblioteca Setorial Prof. Rodolfo Helinski - E...</td>\n",
       "      <td>REGULAR</td>\n",
       "      <td>640</td>\n",
       "      <td>75019</td>\n",
       "    </tr>\n",
       "    <tr>\n",
       "      <th>3</th>\n",
       "      <td>709687</td>\n",
       "      <td>L184117</td>\n",
       "      <td>2010/01/18 11:07:46.470000000</td>\n",
       "      <td>2010/01/04 08:24:21.284000000</td>\n",
       "      <td>2010/02/03 08:58:45.692000000</td>\n",
       "      <td>2.007211e+08</td>\n",
       "      <td>ALUNO DE GRADUAÇÃO</td>\n",
       "      <td>131639</td>\n",
       "      <td>Acervo Circulante</td>\n",
       "      <td>Biblioteca Central Zila Mamede</td>\n",
       "      <td>REGULAR</td>\n",
       "      <td>609</td>\n",
       "      <td>44494</td>\n",
       "    </tr>\n",
       "    <tr>\n",
       "      <th>4</th>\n",
       "      <td>709688</td>\n",
       "      <td>2007027500</td>\n",
       "      <td>2010/01/19 15:59:26.464000000</td>\n",
       "      <td>2010/01/04 08:27:33.569000000</td>\n",
       "      <td>2010/02/03 13:06:30.662000000</td>\n",
       "      <td>2.009046e+09</td>\n",
       "      <td>ALUNO DE GRADUAÇÃO</td>\n",
       "      <td>225646</td>\n",
       "      <td>Acervo Circulante</td>\n",
       "      <td>Biblioteca Central Zila Mamede</td>\n",
       "      <td>REGULAR</td>\n",
       "      <td>686</td>\n",
       "      <td>91736</td>\n",
       "    </tr>\n",
       "    <tr>\n",
       "      <th>...</th>\n",
       "      <td>...</td>\n",
       "      <td>...</td>\n",
       "      <td>...</td>\n",
       "      <td>...</td>\n",
       "      <td>...</td>\n",
       "      <td>...</td>\n",
       "      <td>...</td>\n",
       "      <td>...</td>\n",
       "      <td>...</td>\n",
       "      <td>...</td>\n",
       "      <td>...</td>\n",
       "      <td>...</td>\n",
       "      <td>...</td>\n",
       "    </tr>\n",
       "    <tr>\n",
       "      <th>2072517</th>\n",
       "      <td>2989086</td>\n",
       "      <td>2008047044</td>\n",
       "      <td>NaN</td>\n",
       "      <td>2020/05/05 19:51:06.059000000</td>\n",
       "      <td>2021/05/13 14:53:31.000000000</td>\n",
       "      <td>3.067431e+06</td>\n",
       "      <td>SERVIDOR TÉCNICO-ADMINISTRATIVO</td>\n",
       "      <td>256297</td>\n",
       "      <td>Acervo Circulante</td>\n",
       "      <td>Biblioteca Setorial da Faculdade de Ciências d...</td>\n",
       "      <td>REGULAR</td>\n",
       "      <td>684</td>\n",
       "      <td>110098</td>\n",
       "    </tr>\n",
       "    <tr>\n",
       "      <th>2072518</th>\n",
       "      <td>2989087</td>\n",
       "      <td>2008047047</td>\n",
       "      <td>NaN</td>\n",
       "      <td>2020/05/05 19:51:06.135000000</td>\n",
       "      <td>2021/05/13 14:53:38.000000000</td>\n",
       "      <td>3.067431e+06</td>\n",
       "      <td>SERVIDOR TÉCNICO-ADMINISTRATIVO</td>\n",
       "      <td>256406</td>\n",
       "      <td>Acervo Circulante</td>\n",
       "      <td>Biblioteca Setorial da Faculdade de Ciências d...</td>\n",
       "      <td>REGULAR</td>\n",
       "      <td>628</td>\n",
       "      <td>110171</td>\n",
       "    </tr>\n",
       "    <tr>\n",
       "      <th>2072519</th>\n",
       "      <td>2989088</td>\n",
       "      <td>2010052905</td>\n",
       "      <td>NaN</td>\n",
       "      <td>2020/05/05 19:51:06.164000000</td>\n",
       "      <td>2021/05/13 15:01:46.000000000</td>\n",
       "      <td>3.067431e+06</td>\n",
       "      <td>SERVIDOR TÉCNICO-ADMINISTRATIVO</td>\n",
       "      <td>807821</td>\n",
       "      <td>Acervo Circulante</td>\n",
       "      <td>Biblioteca Setorial da Faculdade de Ciências d...</td>\n",
       "      <td>REGULAR</td>\n",
       "      <td>653</td>\n",
       "      <td>134173</td>\n",
       "    </tr>\n",
       "    <tr>\n",
       "      <th>2072520</th>\n",
       "      <td>2989089</td>\n",
       "      <td>2010048023</td>\n",
       "      <td>NaN</td>\n",
       "      <td>2020/06/09 11:54:02.669000000</td>\n",
       "      <td>2021/07/21 15:33:55.000000000</td>\n",
       "      <td>2.020101e+10</td>\n",
       "      <td>ALUNO DE PÓS-GRADUAÇÃO</td>\n",
       "      <td>804885</td>\n",
       "      <td>Acervo Circulante</td>\n",
       "      <td>Biblioteca Central Zila Mamede</td>\n",
       "      <td>REGULAR</td>\n",
       "      <td>675</td>\n",
       "      <td>67712</td>\n",
       "    </tr>\n",
       "    <tr>\n",
       "      <th>2072521</th>\n",
       "      <td>2989090</td>\n",
       "      <td>2013106838</td>\n",
       "      <td>NaN</td>\n",
       "      <td>2020/06/09 11:54:02.852000000</td>\n",
       "      <td>2021/07/21 15:33:45.000000000</td>\n",
       "      <td>2.020101e+10</td>\n",
       "      <td>ALUNO DE PÓS-GRADUAÇÃO</td>\n",
       "      <td>1099777</td>\n",
       "      <td>Acervo Circulante</td>\n",
       "      <td>Biblioteca Central Zila Mamede</td>\n",
       "      <td>REGULAR</td>\n",
       "      <td>14</td>\n",
       "      <td>205153</td>\n",
       "    </tr>\n",
       "  </tbody>\n",
       "</table>\n",
       "<p>2072522 rows × 13 columns</p>\n",
       "</div>"
      ],
      "text/plain": [
       "         id_emprestimo codigo_barras                 data_renovacao  \\\n",
       "0               709684       L095049                            NaN   \n",
       "1               709685       L167050                            NaN   \n",
       "2               709686    2006017618  2010/01/26 08:07:01.738000000   \n",
       "3               709687       L184117  2010/01/18 11:07:46.470000000   \n",
       "4               709688    2007027500  2010/01/19 15:59:26.464000000   \n",
       "...                ...           ...                            ...   \n",
       "2072517        2989086    2008047044                            NaN   \n",
       "2072518        2989087    2008047047                            NaN   \n",
       "2072519        2989088    2010052905                            NaN   \n",
       "2072520        2989089    2010048023                            NaN   \n",
       "2072521        2989090    2013106838                            NaN   \n",
       "\n",
       "                       data_emprestimo                 data_devolucao  \\\n",
       "0        2010/01/04 07:44:10.721000000  2010/01/05 16:26:12.662000000   \n",
       "1        2010/01/04 07:44:10.750000000  2010/01/12 07:34:13.934000000   \n",
       "2        2010/01/04 08:08:44.081000000  2010/02/25 07:36:25.800000000   \n",
       "3        2010/01/04 08:24:21.284000000  2010/02/03 08:58:45.692000000   \n",
       "4        2010/01/04 08:27:33.569000000  2010/02/03 13:06:30.662000000   \n",
       "...                                ...                            ...   \n",
       "2072517  2020/05/05 19:51:06.059000000  2021/05/13 14:53:31.000000000   \n",
       "2072518  2020/05/05 19:51:06.135000000  2021/05/13 14:53:38.000000000   \n",
       "2072519  2020/05/05 19:51:06.164000000  2021/05/13 15:01:46.000000000   \n",
       "2072520  2020/06/09 11:54:02.669000000  2021/07/21 15:33:55.000000000   \n",
       "2072521  2020/06/09 11:54:02.852000000  2021/07/21 15:33:45.000000000   \n",
       "\n",
       "         matricula_ou_siape             tipo_vinculo_usuario  id_exemplar  \\\n",
       "0              2.008023e+09               ALUNO DE GRADUAÇÃO        13259   \n",
       "1              2.008023e+09               ALUNO DE GRADUAÇÃO        70865   \n",
       "2              2.008112e+09           ALUNO DE PÓS-GRADUAÇÃO       195347   \n",
       "3              2.007211e+08               ALUNO DE GRADUAÇÃO       131639   \n",
       "4              2.009046e+09               ALUNO DE GRADUAÇÃO       225646   \n",
       "...                     ...                              ...          ...   \n",
       "2072517        3.067431e+06  SERVIDOR TÉCNICO-ADMINISTRATIVO       256297   \n",
       "2072518        3.067431e+06  SERVIDOR TÉCNICO-ADMINISTRATIVO       256406   \n",
       "2072519        3.067431e+06  SERVIDOR TÉCNICO-ADMINISTRATIVO       807821   \n",
       "2072520        2.020101e+10           ALUNO DE PÓS-GRADUAÇÃO       804885   \n",
       "2072521        2.020101e+10           ALUNO DE PÓS-GRADUAÇÃO      1099777   \n",
       "\n",
       "                   colecao                                         biblioteca  \\\n",
       "0        Acervo Circulante                     Biblioteca Central Zila Mamede   \n",
       "1        Acervo Circulante                     Biblioteca Central Zila Mamede   \n",
       "2        Acervo Circulante  Biblioteca Setorial Prof. Rodolfo Helinski - E...   \n",
       "3        Acervo Circulante                     Biblioteca Central Zila Mamede   \n",
       "4        Acervo Circulante                     Biblioteca Central Zila Mamede   \n",
       "...                    ...                                                ...   \n",
       "2072517  Acervo Circulante  Biblioteca Setorial da Faculdade de Ciências d...   \n",
       "2072518  Acervo Circulante  Biblioteca Setorial da Faculdade de Ciências d...   \n",
       "2072519  Acervo Circulante  Biblioteca Setorial da Faculdade de Ciências d...   \n",
       "2072520  Acervo Circulante                     Biblioteca Central Zila Mamede   \n",
       "2072521  Acervo Circulante                     Biblioteca Central Zila Mamede   \n",
       "\n",
       "        status_material  localizacao  registro_sistema  \n",
       "0               REGULAR          630              4225  \n",
       "1               REGULAR          647             25009  \n",
       "2               REGULAR          640             75019  \n",
       "3               REGULAR          609             44494  \n",
       "4               REGULAR          686             91736  \n",
       "...                 ...          ...               ...  \n",
       "2072517         REGULAR          684            110098  \n",
       "2072518         REGULAR          628            110171  \n",
       "2072519         REGULAR          653            134173  \n",
       "2072520         REGULAR          675             67712  \n",
       "2072521         REGULAR           14            205153  \n",
       "\n",
       "[2072522 rows x 13 columns]"
      ]
     },
     "execution_count": 7,
     "metadata": {},
     "output_type": "execute_result"
    }
   ],
   "source": [
    "# Unindo os datasets\n",
    "\n",
    "emprestimos_completo = pd.merge(emprestimos_biblioteca, dados_exemplares)\n",
    "emprestimos_completo\n"
   ]
  },
  {
   "cell_type": "code",
   "execution_count": 8,
   "metadata": {},
   "outputs": [
    {
     "data": {
      "text/html": [
       "<div>\n",
       "<style scoped>\n",
       "    .dataframe tbody tr th:only-of-type {\n",
       "        vertical-align: middle;\n",
       "    }\n",
       "\n",
       "    .dataframe tbody tr th {\n",
       "        vertical-align: top;\n",
       "    }\n",
       "\n",
       "    .dataframe thead th {\n",
       "        text-align: right;\n",
       "    }\n",
       "</style>\n",
       "<table border=\"1\" class=\"dataframe\">\n",
       "  <thead>\n",
       "    <tr style=\"text-align: right;\">\n",
       "      <th></th>\n",
       "      <th>id_emprestimo</th>\n",
       "      <th>codigo_barras</th>\n",
       "      <th>data_renovacao</th>\n",
       "      <th>data_emprestimo</th>\n",
       "      <th>data_devolucao</th>\n",
       "      <th>matricula_ou_siape</th>\n",
       "      <th>tipo_vinculo_usuario</th>\n",
       "      <th>id_exemplar</th>\n",
       "      <th>colecao</th>\n",
       "      <th>biblioteca</th>\n",
       "      <th>status_material</th>\n",
       "      <th>localizacao</th>\n",
       "      <th>registro_sistema</th>\n",
       "    </tr>\n",
       "  </thead>\n",
       "  <tbody>\n",
       "    <tr>\n",
       "      <th>0</th>\n",
       "      <td>709684</td>\n",
       "      <td>L095049</td>\n",
       "      <td>NaN</td>\n",
       "      <td>2010/01/04 07:44:10.721000000</td>\n",
       "      <td>2010/01/05 16:26:12.662000000</td>\n",
       "      <td>2.008023e+09</td>\n",
       "      <td>ALUNO DE GRADUAÇÃO</td>\n",
       "      <td>13259</td>\n",
       "      <td>Acervo Circulante</td>\n",
       "      <td>Biblioteca Central Zila Mamede</td>\n",
       "      <td>REGULAR</td>\n",
       "      <td>630</td>\n",
       "      <td>4225</td>\n",
       "    </tr>\n",
       "    <tr>\n",
       "      <th>1</th>\n",
       "      <td>709685</td>\n",
       "      <td>L167050</td>\n",
       "      <td>NaN</td>\n",
       "      <td>2010/01/04 07:44:10.750000000</td>\n",
       "      <td>2010/01/12 07:34:13.934000000</td>\n",
       "      <td>2.008023e+09</td>\n",
       "      <td>ALUNO DE GRADUAÇÃO</td>\n",
       "      <td>70865</td>\n",
       "      <td>Acervo Circulante</td>\n",
       "      <td>Biblioteca Central Zila Mamede</td>\n",
       "      <td>REGULAR</td>\n",
       "      <td>647</td>\n",
       "      <td>25009</td>\n",
       "    </tr>\n",
       "    <tr>\n",
       "      <th>2</th>\n",
       "      <td>709686</td>\n",
       "      <td>2006017618</td>\n",
       "      <td>2010/01/26 08:07:01.738000000</td>\n",
       "      <td>2010/01/04 08:08:44.081000000</td>\n",
       "      <td>2010/02/25 07:36:25.800000000</td>\n",
       "      <td>2.008112e+09</td>\n",
       "      <td>ALUNO DE PÓS-GRADUAÇÃO</td>\n",
       "      <td>195347</td>\n",
       "      <td>Acervo Circulante</td>\n",
       "      <td>Biblioteca Setorial Prof. Rodolfo Helinski - E...</td>\n",
       "      <td>REGULAR</td>\n",
       "      <td>640</td>\n",
       "      <td>75019</td>\n",
       "    </tr>\n",
       "    <tr>\n",
       "      <th>3</th>\n",
       "      <td>709687</td>\n",
       "      <td>L184117</td>\n",
       "      <td>2010/01/18 11:07:46.470000000</td>\n",
       "      <td>2010/01/04 08:24:21.284000000</td>\n",
       "      <td>2010/02/03 08:58:45.692000000</td>\n",
       "      <td>2.007211e+08</td>\n",
       "      <td>ALUNO DE GRADUAÇÃO</td>\n",
       "      <td>131639</td>\n",
       "      <td>Acervo Circulante</td>\n",
       "      <td>Biblioteca Central Zila Mamede</td>\n",
       "      <td>REGULAR</td>\n",
       "      <td>609</td>\n",
       "      <td>44494</td>\n",
       "    </tr>\n",
       "    <tr>\n",
       "      <th>4</th>\n",
       "      <td>709688</td>\n",
       "      <td>2007027500</td>\n",
       "      <td>2010/01/19 15:59:26.464000000</td>\n",
       "      <td>2010/01/04 08:27:33.569000000</td>\n",
       "      <td>2010/02/03 13:06:30.662000000</td>\n",
       "      <td>2.009046e+09</td>\n",
       "      <td>ALUNO DE GRADUAÇÃO</td>\n",
       "      <td>225646</td>\n",
       "      <td>Acervo Circulante</td>\n",
       "      <td>Biblioteca Central Zila Mamede</td>\n",
       "      <td>REGULAR</td>\n",
       "      <td>686</td>\n",
       "      <td>91736</td>\n",
       "    </tr>\n",
       "  </tbody>\n",
       "</table>\n",
       "</div>"
      ],
      "text/plain": [
       "   id_emprestimo codigo_barras                 data_renovacao  \\\n",
       "0         709684       L095049                            NaN   \n",
       "1         709685       L167050                            NaN   \n",
       "2         709686    2006017618  2010/01/26 08:07:01.738000000   \n",
       "3         709687       L184117  2010/01/18 11:07:46.470000000   \n",
       "4         709688    2007027500  2010/01/19 15:59:26.464000000   \n",
       "\n",
       "                 data_emprestimo                 data_devolucao  \\\n",
       "0  2010/01/04 07:44:10.721000000  2010/01/05 16:26:12.662000000   \n",
       "1  2010/01/04 07:44:10.750000000  2010/01/12 07:34:13.934000000   \n",
       "2  2010/01/04 08:08:44.081000000  2010/02/25 07:36:25.800000000   \n",
       "3  2010/01/04 08:24:21.284000000  2010/02/03 08:58:45.692000000   \n",
       "4  2010/01/04 08:27:33.569000000  2010/02/03 13:06:30.662000000   \n",
       "\n",
       "   matricula_ou_siape    tipo_vinculo_usuario  id_exemplar            colecao  \\\n",
       "0        2.008023e+09      ALUNO DE GRADUAÇÃO        13259  Acervo Circulante   \n",
       "1        2.008023e+09      ALUNO DE GRADUAÇÃO        70865  Acervo Circulante   \n",
       "2        2.008112e+09  ALUNO DE PÓS-GRADUAÇÃO       195347  Acervo Circulante   \n",
       "3        2.007211e+08      ALUNO DE GRADUAÇÃO       131639  Acervo Circulante   \n",
       "4        2.009046e+09      ALUNO DE GRADUAÇÃO       225646  Acervo Circulante   \n",
       "\n",
       "                                          biblioteca status_material  \\\n",
       "0                     Biblioteca Central Zila Mamede         REGULAR   \n",
       "1                     Biblioteca Central Zila Mamede         REGULAR   \n",
       "2  Biblioteca Setorial Prof. Rodolfo Helinski - E...         REGULAR   \n",
       "3                     Biblioteca Central Zila Mamede         REGULAR   \n",
       "4                     Biblioteca Central Zila Mamede         REGULAR   \n",
       "\n",
       "   localizacao  registro_sistema  \n",
       "0          630              4225  \n",
       "1          647             25009  \n",
       "2          640             75019  \n",
       "3          609             44494  \n",
       "4          686             91736  "
      ]
     },
     "metadata": {},
     "output_type": "display_data"
    }
   ],
   "source": [
    "# Exibir as primeiras linhas do dataset\n",
    "\n",
    "display(emprestimos_completo.head())"
   ]
  },
  {
   "cell_type": "code",
   "execution_count": 9,
   "metadata": {},
   "outputs": [
    {
     "data": {
      "text/html": [
       "<div>\n",
       "<style scoped>\n",
       "    .dataframe tbody tr th:only-of-type {\n",
       "        vertical-align: middle;\n",
       "    }\n",
       "\n",
       "    .dataframe tbody tr th {\n",
       "        vertical-align: top;\n",
       "    }\n",
       "\n",
       "    .dataframe thead th {\n",
       "        text-align: right;\n",
       "    }\n",
       "</style>\n",
       "<table border=\"1\" class=\"dataframe\">\n",
       "  <thead>\n",
       "    <tr style=\"text-align: right;\">\n",
       "      <th></th>\n",
       "      <th>id_emprestimo</th>\n",
       "      <th>codigo_barras</th>\n",
       "      <th>data_renovacao</th>\n",
       "      <th>data_emprestimo</th>\n",
       "      <th>data_devolucao</th>\n",
       "      <th>matricula_ou_siape</th>\n",
       "      <th>tipo_vinculo_usuario</th>\n",
       "      <th>id_exemplar</th>\n",
       "      <th>colecao</th>\n",
       "      <th>biblioteca</th>\n",
       "      <th>status_material</th>\n",
       "      <th>localizacao</th>\n",
       "      <th>registro_sistema</th>\n",
       "      <th>CDU</th>\n",
       "    </tr>\n",
       "  </thead>\n",
       "  <tbody>\n",
       "    <tr>\n",
       "      <th>0</th>\n",
       "      <td>709684</td>\n",
       "      <td>L095049</td>\n",
       "      <td>NaN</td>\n",
       "      <td>2010/01/04 07:44:10.721000000</td>\n",
       "      <td>2010/01/05 16:26:12.662000000</td>\n",
       "      <td>2.008023e+09</td>\n",
       "      <td>ALUNO DE GRADUAÇÃO</td>\n",
       "      <td>13259</td>\n",
       "      <td>Acervo Circulante</td>\n",
       "      <td>Biblioteca Central Zila Mamede</td>\n",
       "      <td>REGULAR</td>\n",
       "      <td>630</td>\n",
       "      <td>4225</td>\n",
       "      <td>Tecnologia</td>\n",
       "    </tr>\n",
       "    <tr>\n",
       "      <th>1</th>\n",
       "      <td>709685</td>\n",
       "      <td>L167050</td>\n",
       "      <td>NaN</td>\n",
       "      <td>2010/01/04 07:44:10.750000000</td>\n",
       "      <td>2010/01/12 07:34:13.934000000</td>\n",
       "      <td>2.008023e+09</td>\n",
       "      <td>ALUNO DE GRADUAÇÃO</td>\n",
       "      <td>70865</td>\n",
       "      <td>Acervo Circulante</td>\n",
       "      <td>Biblioteca Central Zila Mamede</td>\n",
       "      <td>REGULAR</td>\n",
       "      <td>647</td>\n",
       "      <td>25009</td>\n",
       "      <td>Tecnologia</td>\n",
       "    </tr>\n",
       "    <tr>\n",
       "      <th>2</th>\n",
       "      <td>709686</td>\n",
       "      <td>2006017618</td>\n",
       "      <td>2010/01/26 08:07:01.738000000</td>\n",
       "      <td>2010/01/04 08:08:44.081000000</td>\n",
       "      <td>2010/02/25 07:36:25.800000000</td>\n",
       "      <td>2.008112e+09</td>\n",
       "      <td>ALUNO DE PÓS-GRADUAÇÃO</td>\n",
       "      <td>195347</td>\n",
       "      <td>Acervo Circulante</td>\n",
       "      <td>Biblioteca Setorial Prof. Rodolfo Helinski - E...</td>\n",
       "      <td>REGULAR</td>\n",
       "      <td>640</td>\n",
       "      <td>75019</td>\n",
       "      <td>Tecnologia</td>\n",
       "    </tr>\n",
       "    <tr>\n",
       "      <th>3</th>\n",
       "      <td>709687</td>\n",
       "      <td>L184117</td>\n",
       "      <td>2010/01/18 11:07:46.470000000</td>\n",
       "      <td>2010/01/04 08:24:21.284000000</td>\n",
       "      <td>2010/02/03 08:58:45.692000000</td>\n",
       "      <td>2.007211e+08</td>\n",
       "      <td>ALUNO DE GRADUAÇÃO</td>\n",
       "      <td>131639</td>\n",
       "      <td>Acervo Circulante</td>\n",
       "      <td>Biblioteca Central Zila Mamede</td>\n",
       "      <td>REGULAR</td>\n",
       "      <td>609</td>\n",
       "      <td>44494</td>\n",
       "      <td>Tecnologia</td>\n",
       "    </tr>\n",
       "    <tr>\n",
       "      <th>4</th>\n",
       "      <td>709688</td>\n",
       "      <td>2007027500</td>\n",
       "      <td>2010/01/19 15:59:26.464000000</td>\n",
       "      <td>2010/01/04 08:27:33.569000000</td>\n",
       "      <td>2010/02/03 13:06:30.662000000</td>\n",
       "      <td>2.009046e+09</td>\n",
       "      <td>ALUNO DE GRADUAÇÃO</td>\n",
       "      <td>225646</td>\n",
       "      <td>Acervo Circulante</td>\n",
       "      <td>Biblioteca Central Zila Mamede</td>\n",
       "      <td>REGULAR</td>\n",
       "      <td>686</td>\n",
       "      <td>91736</td>\n",
       "      <td>Tecnologia</td>\n",
       "    </tr>\n",
       "  </tbody>\n",
       "</table>\n",
       "</div>"
      ],
      "text/plain": [
       "   id_emprestimo codigo_barras                 data_renovacao  \\\n",
       "0         709684       L095049                            NaN   \n",
       "1         709685       L167050                            NaN   \n",
       "2         709686    2006017618  2010/01/26 08:07:01.738000000   \n",
       "3         709687       L184117  2010/01/18 11:07:46.470000000   \n",
       "4         709688    2007027500  2010/01/19 15:59:26.464000000   \n",
       "\n",
       "                 data_emprestimo                 data_devolucao  \\\n",
       "0  2010/01/04 07:44:10.721000000  2010/01/05 16:26:12.662000000   \n",
       "1  2010/01/04 07:44:10.750000000  2010/01/12 07:34:13.934000000   \n",
       "2  2010/01/04 08:08:44.081000000  2010/02/25 07:36:25.800000000   \n",
       "3  2010/01/04 08:24:21.284000000  2010/02/03 08:58:45.692000000   \n",
       "4  2010/01/04 08:27:33.569000000  2010/02/03 13:06:30.662000000   \n",
       "\n",
       "   matricula_ou_siape    tipo_vinculo_usuario  id_exemplar            colecao  \\\n",
       "0        2.008023e+09      ALUNO DE GRADUAÇÃO        13259  Acervo Circulante   \n",
       "1        2.008023e+09      ALUNO DE GRADUAÇÃO        70865  Acervo Circulante   \n",
       "2        2.008112e+09  ALUNO DE PÓS-GRADUAÇÃO       195347  Acervo Circulante   \n",
       "3        2.007211e+08      ALUNO DE GRADUAÇÃO       131639  Acervo Circulante   \n",
       "4        2.009046e+09      ALUNO DE GRADUAÇÃO       225646  Acervo Circulante   \n",
       "\n",
       "                                          biblioteca status_material  \\\n",
       "0                     Biblioteca Central Zila Mamede         REGULAR   \n",
       "1                     Biblioteca Central Zila Mamede         REGULAR   \n",
       "2  Biblioteca Setorial Prof. Rodolfo Helinski - E...         REGULAR   \n",
       "3                     Biblioteca Central Zila Mamede         REGULAR   \n",
       "4                     Biblioteca Central Zila Mamede         REGULAR   \n",
       "\n",
       "   localizacao  registro_sistema         CDU  \n",
       "0          630              4225  Tecnologia  \n",
       "1          647             25009  Tecnologia  \n",
       "2          640             75019  Tecnologia  \n",
       "3          609             44494  Tecnologia  \n",
       "4          686             91736  Tecnologia  "
      ]
     },
     "metadata": {},
     "output_type": "display_data"
    }
   ],
   "source": [
    "# Converter a coluna localizacao para string de acordo com a CDU\n",
    "\n",
    "CDU_lista = []\n",
    "for i in emprestimos_completo['localizacao']:\n",
    "    if   i < 100:\n",
    "        CDU_lista.append('Geral')\n",
    "    elif i < 200:\n",
    "        CDU_lista.append('Filosofia e Psicologia')\n",
    "    elif i < 300:\n",
    "        CDU_lista.append('Religião')\n",
    "    elif i < 400:\n",
    "        CDU_lista.append('Ciências Sociais')\n",
    "    elif i < 500:\n",
    "        CDU_lista.append('Linguagem')\n",
    "    elif i < 600:\n",
    "        CDU_lista.append('Ciências Naturais')\n",
    "    elif i < 700:\n",
    "        CDU_lista.append('Tecnologia')\n",
    "    elif i < 800:\n",
    "        CDU_lista.append('Artes')\n",
    "    elif i < 900:\n",
    "        CDU_lista.append('Literatura')\n",
    "    else:\n",
    "        CDU_lista.append('Geografia e História')\n",
    "emprestimos_completo['CDU'] = CDU_lista \n",
    "display(emprestimos_completo.head())"
   ]
  },
  {
   "cell_type": "code",
   "execution_count": 10,
   "metadata": {},
   "outputs": [],
   "source": [
    "# Tirar colunas desnecessárias\n",
    "\n",
    "emprestimos_completo.drop(columns=['registro_sistema'], inplace=True)"
   ]
  },
  {
   "cell_type": "code",
   "execution_count": 11,
   "metadata": {},
   "outputs": [],
   "source": [
    "# Modificar estrutura matricula_ou_siape\n",
    "\n",
    "emprestimos_completo['matricula_ou_siape'] = emprestimos_completo['matricula_ou_siape'].astype(str)"
   ]
  },
  {
   "cell_type": "code",
   "execution_count": 12,
   "metadata": {},
   "outputs": [
    {
     "name": "stderr",
     "output_type": "stream",
     "text": [
      "\n",
      "[notice] A new release of pip is available: 24.0 -> 24.1.2\n",
      "[notice] To update, run: C:\\Users\\gafeb\\AppData\\Local\\Microsoft\\WindowsApps\\PythonSoftwareFoundation.Python.3.11_qbz5n2kfra8p0\\python.exe -m pip install --upgrade pip\n"
     ]
    },
    {
     "name": "stdout",
     "output_type": "stream",
     "text": [
      "Requirement already satisfied: seaborn in c:\\users\\gafeb\\appdata\\local\\packages\\pythonsoftwarefoundation.python.3.11_qbz5n2kfra8p0\\localcache\\local-packages\\python311\\site-packages (0.13.2)\n",
      "Requirement already satisfied: numpy!=1.24.0,>=1.20 in c:\\users\\gafeb\\appdata\\local\\packages\\pythonsoftwarefoundation.python.3.11_qbz5n2kfra8p0\\localcache\\local-packages\\python311\\site-packages (from seaborn) (2.0.0)\n",
      "Requirement already satisfied: pandas>=1.2 in c:\\users\\gafeb\\appdata\\local\\packages\\pythonsoftwarefoundation.python.3.11_qbz5n2kfra8p0\\localcache\\local-packages\\python311\\site-packages (from seaborn) (2.2.2)\n",
      "Requirement already satisfied: matplotlib!=3.6.1,>=3.4 in c:\\users\\gafeb\\appdata\\local\\packages\\pythonsoftwarefoundation.python.3.11_qbz5n2kfra8p0\\localcache\\local-packages\\python311\\site-packages (from seaborn) (3.9.1)\n",
      "Requirement already satisfied: contourpy>=1.0.1 in c:\\users\\gafeb\\appdata\\local\\packages\\pythonsoftwarefoundation.python.3.11_qbz5n2kfra8p0\\localcache\\local-packages\\python311\\site-packages (from matplotlib!=3.6.1,>=3.4->seaborn) (1.2.1)\n",
      "Requirement already satisfied: cycler>=0.10 in c:\\users\\gafeb\\appdata\\local\\packages\\pythonsoftwarefoundation.python.3.11_qbz5n2kfra8p0\\localcache\\local-packages\\python311\\site-packages (from matplotlib!=3.6.1,>=3.4->seaborn) (0.12.1)\n",
      "Requirement already satisfied: fonttools>=4.22.0 in c:\\users\\gafeb\\appdata\\local\\packages\\pythonsoftwarefoundation.python.3.11_qbz5n2kfra8p0\\localcache\\local-packages\\python311\\site-packages (from matplotlib!=3.6.1,>=3.4->seaborn) (4.53.1)\n",
      "Requirement already satisfied: kiwisolver>=1.3.1 in c:\\users\\gafeb\\appdata\\local\\packages\\pythonsoftwarefoundation.python.3.11_qbz5n2kfra8p0\\localcache\\local-packages\\python311\\site-packages (from matplotlib!=3.6.1,>=3.4->seaborn) (1.4.5)\n",
      "Requirement already satisfied: packaging>=20.0 in c:\\users\\gafeb\\appdata\\local\\packages\\pythonsoftwarefoundation.python.3.11_qbz5n2kfra8p0\\localcache\\local-packages\\python311\\site-packages (from matplotlib!=3.6.1,>=3.4->seaborn) (24.1)\n",
      "Requirement already satisfied: pillow>=8 in c:\\users\\gafeb\\appdata\\local\\packages\\pythonsoftwarefoundation.python.3.11_qbz5n2kfra8p0\\localcache\\local-packages\\python311\\site-packages (from matplotlib!=3.6.1,>=3.4->seaborn) (10.4.0)\n",
      "Requirement already satisfied: pyparsing>=2.3.1 in c:\\users\\gafeb\\appdata\\local\\packages\\pythonsoftwarefoundation.python.3.11_qbz5n2kfra8p0\\localcache\\local-packages\\python311\\site-packages (from matplotlib!=3.6.1,>=3.4->seaborn) (3.1.2)\n",
      "Requirement already satisfied: python-dateutil>=2.7 in c:\\users\\gafeb\\appdata\\local\\packages\\pythonsoftwarefoundation.python.3.11_qbz5n2kfra8p0\\localcache\\local-packages\\python311\\site-packages (from matplotlib!=3.6.1,>=3.4->seaborn) (2.9.0.post0)\n",
      "Requirement already satisfied: pytz>=2020.1 in c:\\users\\gafeb\\appdata\\local\\packages\\pythonsoftwarefoundation.python.3.11_qbz5n2kfra8p0\\localcache\\local-packages\\python311\\site-packages (from pandas>=1.2->seaborn) (2024.1)\n",
      "Requirement already satisfied: tzdata>=2022.7 in c:\\users\\gafeb\\appdata\\local\\packages\\pythonsoftwarefoundation.python.3.11_qbz5n2kfra8p0\\localcache\\local-packages\\python311\\site-packages (from pandas>=1.2->seaborn) (2024.1)\n",
      "Requirement already satisfied: six>=1.5 in c:\\users\\gafeb\\appdata\\local\\packages\\pythonsoftwarefoundation.python.3.11_qbz5n2kfra8p0\\localcache\\local-packages\\python311\\site-packages (from python-dateutil>=2.7->matplotlib!=3.6.1,>=3.4->seaborn) (1.16.0)\n",
      "Note: you may need to restart the kernel to use updated packages.\n"
     ]
    }
   ],
   "source": [
    "# Explorando o Datetime dos dados\n",
    "\n",
    "%pip install seaborn\n",
    "import seaborn as sns\n",
    "import matplotlib.ticker as ticker\n",
    "import matplotlib.pyplot as plt"
   ]
  },
  {
   "cell_type": "code",
   "execution_count": 13,
   "metadata": {},
   "outputs": [
    {
     "data": {
      "text/html": [
       "<div>\n",
       "<style scoped>\n",
       "    .dataframe tbody tr th:only-of-type {\n",
       "        vertical-align: middle;\n",
       "    }\n",
       "\n",
       "    .dataframe tbody tr th {\n",
       "        vertical-align: top;\n",
       "    }\n",
       "\n",
       "    .dataframe thead th {\n",
       "        text-align: right;\n",
       "    }\n",
       "</style>\n",
       "<table border=\"1\" class=\"dataframe\">\n",
       "  <thead>\n",
       "    <tr style=\"text-align: right;\">\n",
       "      <th></th>\n",
       "      <th>id_emprestimo</th>\n",
       "      <th>codigo_barras</th>\n",
       "      <th>data_renovacao</th>\n",
       "      <th>data_emprestimo</th>\n",
       "      <th>data_devolucao</th>\n",
       "      <th>matricula_ou_siape</th>\n",
       "      <th>tipo_vinculo_usuario</th>\n",
       "      <th>id_exemplar</th>\n",
       "      <th>colecao</th>\n",
       "      <th>biblioteca</th>\n",
       "      <th>status_material</th>\n",
       "      <th>localizacao</th>\n",
       "      <th>CDU</th>\n",
       "    </tr>\n",
       "  </thead>\n",
       "  <tbody>\n",
       "    <tr>\n",
       "      <th>0</th>\n",
       "      <td>709684</td>\n",
       "      <td>L095049</td>\n",
       "      <td>NaN</td>\n",
       "      <td>2010/01/04 07:44:10.721000000</td>\n",
       "      <td>2010/01/05 16:26:12.662000000</td>\n",
       "      <td>2008023265.0</td>\n",
       "      <td>ALUNO DE GRADUAÇÃO</td>\n",
       "      <td>13259</td>\n",
       "      <td>Acervo Circulante</td>\n",
       "      <td>Biblioteca Central Zila Mamede</td>\n",
       "      <td>REGULAR</td>\n",
       "      <td>630</td>\n",
       "      <td>Tecnologia</td>\n",
       "    </tr>\n",
       "    <tr>\n",
       "      <th>1</th>\n",
       "      <td>709685</td>\n",
       "      <td>L167050</td>\n",
       "      <td>NaN</td>\n",
       "      <td>2010/01/04 07:44:10.750000000</td>\n",
       "      <td>2010/01/12 07:34:13.934000000</td>\n",
       "      <td>2008023265.0</td>\n",
       "      <td>ALUNO DE GRADUAÇÃO</td>\n",
       "      <td>70865</td>\n",
       "      <td>Acervo Circulante</td>\n",
       "      <td>Biblioteca Central Zila Mamede</td>\n",
       "      <td>REGULAR</td>\n",
       "      <td>647</td>\n",
       "      <td>Tecnologia</td>\n",
       "    </tr>\n",
       "    <tr>\n",
       "      <th>2</th>\n",
       "      <td>709686</td>\n",
       "      <td>2006017618</td>\n",
       "      <td>2010/01/26 08:07:01.738000000</td>\n",
       "      <td>2010/01/04 08:08:44.081000000</td>\n",
       "      <td>2010/02/25 07:36:25.800000000</td>\n",
       "      <td>2008112114.0</td>\n",
       "      <td>ALUNO DE PÓS-GRADUAÇÃO</td>\n",
       "      <td>195347</td>\n",
       "      <td>Acervo Circulante</td>\n",
       "      <td>Biblioteca Setorial Prof. Rodolfo Helinski - E...</td>\n",
       "      <td>REGULAR</td>\n",
       "      <td>640</td>\n",
       "      <td>Tecnologia</td>\n",
       "    </tr>\n",
       "    <tr>\n",
       "      <th>3</th>\n",
       "      <td>709687</td>\n",
       "      <td>L184117</td>\n",
       "      <td>2010/01/18 11:07:46.470000000</td>\n",
       "      <td>2010/01/04 08:24:21.284000000</td>\n",
       "      <td>2010/02/03 08:58:45.692000000</td>\n",
       "      <td>200721119.0</td>\n",
       "      <td>ALUNO DE GRADUAÇÃO</td>\n",
       "      <td>131639</td>\n",
       "      <td>Acervo Circulante</td>\n",
       "      <td>Biblioteca Central Zila Mamede</td>\n",
       "      <td>REGULAR</td>\n",
       "      <td>609</td>\n",
       "      <td>Tecnologia</td>\n",
       "    </tr>\n",
       "    <tr>\n",
       "      <th>4</th>\n",
       "      <td>709688</td>\n",
       "      <td>2007027500</td>\n",
       "      <td>2010/01/19 15:59:26.464000000</td>\n",
       "      <td>2010/01/04 08:27:33.569000000</td>\n",
       "      <td>2010/02/03 13:06:30.662000000</td>\n",
       "      <td>2009045971.0</td>\n",
       "      <td>ALUNO DE GRADUAÇÃO</td>\n",
       "      <td>225646</td>\n",
       "      <td>Acervo Circulante</td>\n",
       "      <td>Biblioteca Central Zila Mamede</td>\n",
       "      <td>REGULAR</td>\n",
       "      <td>686</td>\n",
       "      <td>Tecnologia</td>\n",
       "    </tr>\n",
       "  </tbody>\n",
       "</table>\n",
       "</div>"
      ],
      "text/plain": [
       "   id_emprestimo codigo_barras                 data_renovacao  \\\n",
       "0         709684       L095049                            NaN   \n",
       "1         709685       L167050                            NaN   \n",
       "2         709686    2006017618  2010/01/26 08:07:01.738000000   \n",
       "3         709687       L184117  2010/01/18 11:07:46.470000000   \n",
       "4         709688    2007027500  2010/01/19 15:59:26.464000000   \n",
       "\n",
       "                 data_emprestimo                 data_devolucao  \\\n",
       "0  2010/01/04 07:44:10.721000000  2010/01/05 16:26:12.662000000   \n",
       "1  2010/01/04 07:44:10.750000000  2010/01/12 07:34:13.934000000   \n",
       "2  2010/01/04 08:08:44.081000000  2010/02/25 07:36:25.800000000   \n",
       "3  2010/01/04 08:24:21.284000000  2010/02/03 08:58:45.692000000   \n",
       "4  2010/01/04 08:27:33.569000000  2010/02/03 13:06:30.662000000   \n",
       "\n",
       "  matricula_ou_siape    tipo_vinculo_usuario  id_exemplar            colecao  \\\n",
       "0       2008023265.0      ALUNO DE GRADUAÇÃO        13259  Acervo Circulante   \n",
       "1       2008023265.0      ALUNO DE GRADUAÇÃO        70865  Acervo Circulante   \n",
       "2       2008112114.0  ALUNO DE PÓS-GRADUAÇÃO       195347  Acervo Circulante   \n",
       "3        200721119.0      ALUNO DE GRADUAÇÃO       131639  Acervo Circulante   \n",
       "4       2009045971.0      ALUNO DE GRADUAÇÃO       225646  Acervo Circulante   \n",
       "\n",
       "                                          biblioteca status_material  \\\n",
       "0                     Biblioteca Central Zila Mamede         REGULAR   \n",
       "1                     Biblioteca Central Zila Mamede         REGULAR   \n",
       "2  Biblioteca Setorial Prof. Rodolfo Helinski - E...         REGULAR   \n",
       "3                     Biblioteca Central Zila Mamede         REGULAR   \n",
       "4                     Biblioteca Central Zila Mamede         REGULAR   \n",
       "\n",
       "   localizacao         CDU  \n",
       "0          630  Tecnologia  \n",
       "1          647  Tecnologia  \n",
       "2          640  Tecnologia  \n",
       "3          609  Tecnologia  \n",
       "4          686  Tecnologia  "
      ]
     },
     "execution_count": 13,
     "metadata": {},
     "output_type": "execute_result"
    }
   ],
   "source": [
    "emprestimos_completo.head()"
   ]
  },
  {
   "cell_type": "code",
   "execution_count": 14,
   "metadata": {},
   "outputs": [
    {
     "data": {
      "text/plain": [
       "id_emprestimo\n",
       "2010326    3\n",
       "1752337    3\n",
       "2014596    3\n",
       "2422542    3\n",
       "1987946    3\n",
       "          ..\n",
       "709699     1\n",
       "709700     1\n",
       "709702     1\n",
       "709703     1\n",
       "2989090    1\n",
       "Name: count, Length: 2068724, dtype: int64"
      ]
     },
     "execution_count": 14,
     "metadata": {},
     "output_type": "execute_result"
    }
   ],
   "source": [
    "# Verificando a relação entre o empréstimo e empréstimo de exemplar\n",
    "\n",
    "emprestimos_completo['id_emprestimo'].value_counts() "
   ]
  },
  {
   "cell_type": "code",
   "execution_count": 15,
   "metadata": {},
   "outputs": [
    {
     "data": {
      "text/html": [
       "<div>\n",
       "<style scoped>\n",
       "    .dataframe tbody tr th:only-of-type {\n",
       "        vertical-align: middle;\n",
       "    }\n",
       "\n",
       "    .dataframe tbody tr th {\n",
       "        vertical-align: top;\n",
       "    }\n",
       "\n",
       "    .dataframe thead th {\n",
       "        text-align: right;\n",
       "    }\n",
       "</style>\n",
       "<table border=\"1\" class=\"dataframe\">\n",
       "  <thead>\n",
       "    <tr style=\"text-align: right;\">\n",
       "      <th></th>\n",
       "      <th>id_emprestimo</th>\n",
       "      <th>codigo_barras</th>\n",
       "      <th>data_renovacao</th>\n",
       "      <th>data_emprestimo</th>\n",
       "      <th>data_devolucao</th>\n",
       "      <th>matricula_ou_siape</th>\n",
       "      <th>tipo_vinculo_usuario</th>\n",
       "      <th>id_exemplar</th>\n",
       "      <th>colecao</th>\n",
       "      <th>biblioteca</th>\n",
       "      <th>status_material</th>\n",
       "      <th>localizacao</th>\n",
       "      <th>CDU</th>\n",
       "    </tr>\n",
       "  </thead>\n",
       "  <tbody>\n",
       "  </tbody>\n",
       "</table>\n",
       "</div>"
      ],
      "text/plain": [
       "Empty DataFrame\n",
       "Columns: [id_emprestimo, codigo_barras, data_renovacao, data_emprestimo, data_devolucao, matricula_ou_siape, tipo_vinculo_usuario, id_exemplar, colecao, biblioteca, status_material, localizacao, CDU]\n",
       "Index: []"
      ]
     },
     "execution_count": 15,
     "metadata": {},
     "output_type": "execute_result"
    }
   ],
   "source": [
    "emprestimos_completo.loc[emprestimos_completo['id_emprestimo'] == 2560028]"
   ]
  },
  {
   "cell_type": "code",
   "execution_count": 16,
   "metadata": {},
   "outputs": [
    {
     "data": {
      "text/plain": [
       "2068724"
      ]
     },
     "execution_count": 16,
     "metadata": {},
     "output_type": "execute_result"
    }
   ],
   "source": [
    "# Quantos empréstismos foram realizados no total?\n",
    "\n",
    "emprestimos = len(emprestimos_completo['id_emprestimo'].drop_duplicates())\n",
    "emprestimos"
   ]
  },
  {
   "cell_type": "code",
   "execution_count": 17,
   "metadata": {},
   "outputs": [
    {
     "data": {
      "text/plain": [
       "2072522"
      ]
     },
     "execution_count": 17,
     "metadata": {},
     "output_type": "execute_result"
    }
   ],
   "source": [
    "# Quantos exemplares foram emprestados no total?\n",
    "exemplares = len(emprestimos_completo)\n",
    "exemplares"
   ]
  },
  {
   "cell_type": "code",
   "execution_count": 37,
   "metadata": {},
   "outputs": [
    {
     "data": {
      "text/html": [
       "<div>\n",
       "<style scoped>\n",
       "    .dataframe tbody tr th:only-of-type {\n",
       "        vertical-align: middle;\n",
       "    }\n",
       "\n",
       "    .dataframe tbody tr th {\n",
       "        vertical-align: top;\n",
       "    }\n",
       "\n",
       "    .dataframe thead th {\n",
       "        text-align: right;\n",
       "    }\n",
       "</style>\n",
       "<table border=\"1\" class=\"dataframe\">\n",
       "  <thead>\n",
       "    <tr style=\"text-align: right;\">\n",
       "      <th></th>\n",
       "      <th>data</th>\n",
       "      <th>quantidade</th>\n",
       "    </tr>\n",
       "  </thead>\n",
       "  <tbody>\n",
       "    <tr>\n",
       "      <th>0</th>\n",
       "      <td>2015-06-10 18:51:56.994</td>\n",
       "      <td>3</td>\n",
       "    </tr>\n",
       "    <tr>\n",
       "      <th>1</th>\n",
       "      <td>2014-01-28 14:49:50.505</td>\n",
       "      <td>3</td>\n",
       "    </tr>\n",
       "    <tr>\n",
       "      <th>2</th>\n",
       "      <td>2014-05-12 09:56:18.787</td>\n",
       "      <td>3</td>\n",
       "    </tr>\n",
       "    <tr>\n",
       "      <th>3</th>\n",
       "      <td>2016-04-20 21:07:44.036</td>\n",
       "      <td>3</td>\n",
       "    </tr>\n",
       "    <tr>\n",
       "      <th>4</th>\n",
       "      <td>2015-05-05 20:37:19.551</td>\n",
       "      <td>3</td>\n",
       "    </tr>\n",
       "    <tr>\n",
       "      <th>...</th>\n",
       "      <td>...</td>\n",
       "      <td>...</td>\n",
       "    </tr>\n",
       "    <tr>\n",
       "      <th>2068686</th>\n",
       "      <td>2010-01-04 09:21:19.099</td>\n",
       "      <td>1</td>\n",
       "    </tr>\n",
       "    <tr>\n",
       "      <th>2068687</th>\n",
       "      <td>2010-01-04 09:21:19.126</td>\n",
       "      <td>1</td>\n",
       "    </tr>\n",
       "    <tr>\n",
       "      <th>2068688</th>\n",
       "      <td>2010-01-04 09:42:28.589</td>\n",
       "      <td>1</td>\n",
       "    </tr>\n",
       "    <tr>\n",
       "      <th>2068689</th>\n",
       "      <td>2010-01-04 09:48:05.637</td>\n",
       "      <td>1</td>\n",
       "    </tr>\n",
       "    <tr>\n",
       "      <th>2068690</th>\n",
       "      <td>2010-01-04 09:56:42.325</td>\n",
       "      <td>1</td>\n",
       "    </tr>\n",
       "  </tbody>\n",
       "</table>\n",
       "<p>2068691 rows × 2 columns</p>\n",
       "</div>"
      ],
      "text/plain": [
       "                           data  quantidade\n",
       "0       2015-06-10 18:51:56.994           3\n",
       "1       2014-01-28 14:49:50.505           3\n",
       "2       2014-05-12 09:56:18.787           3\n",
       "3       2016-04-20 21:07:44.036           3\n",
       "4       2015-05-05 20:37:19.551           3\n",
       "...                         ...         ...\n",
       "2068686 2010-01-04 09:21:19.099           1\n",
       "2068687 2010-01-04 09:21:19.126           1\n",
       "2068688 2010-01-04 09:42:28.589           1\n",
       "2068689 2010-01-04 09:48:05.637           1\n",
       "2068690 2010-01-04 09:56:42.325           1\n",
       "\n",
       "[2068691 rows x 2 columns]"
      ]
     },
     "execution_count": 37,
     "metadata": {},
     "output_type": "execute_result"
    }
   ],
   "source": [
    "# Quantidade de exemplares emprestados por ano\n",
    "\n",
    "emprestimos_data = pd.DataFrame(emprestimos_completo['data_emprestimo'].value_counts()).reset_index()\n",
    "emprestimos_data.columns = ['data', 'quantidade']\n",
    "emprestimos_data['data'] = pd.to_datetime(emprestimos_data['data'])\n",
    "emprestimos_data\n"
   ]
  },
  {
   "cell_type": "code",
   "execution_count": 52,
   "metadata": {},
   "outputs": [],
   "source": [
    "emprestimos_por_ano = emprestimos_data.groupby(by=emprestimos_data.data.dt.year)['quantidade'].sum()\n",
    "emprestimos_por_ano.index.name = 'ano'\n",
    "emprestimos_por_ano_df = emprestimos_por_ano.reset_index() # transofrmar em DataFrame"
   ]
  },
  {
   "cell_type": "code",
   "execution_count": 53,
   "metadata": {},
   "outputs": [],
   "source": [
    "# Configurando tema dos gráficos\n",
    "\n",
    "sns.set_theme(context = 'notebook',\n",
    "              style = 'darkgrid',\n",
    "              palette = 'deep',\n",
    "              font = 'sans-serif',\n",
    "              font_scale = 1.3,\n",
    "              color_codes = True,\n",
    "              rc = {'figure.figsize': (15, 8)})                                                     "
   ]
  },
  {
   "cell_type": "code",
   "execution_count": 54,
   "metadata": {},
   "outputs": [
    {
     "data": {
      "image/png": "[encoded data removed]",
      "text/plain": [
       "<Figure size 1500x800 with 1 Axes>"
      ]
     },
     "metadata": {},
     "output_type": "display_data"
    }
   ],
   "source": [
    "\n",
    "ax = sns.lineplot(data= emprestimos_por_ano_df, x = 'ano', y = 'quantidade')\n",
    "ax.set(xlabel = None , ylabel = None)\n",
    "ax.tick_params(axis = 'x', rotation = 30)\n",
    "ax.yaxis.set_major_formatter(ticker.FuncFormatter(lambda x, p: format(int(x), ',').replace(',', '.')))\n",
    "\n",
    "ax.set_title('Quantidade de exemplares emprestados do SISBI por ano'+'\\n ', size = 20, loc = 'left', color = 'black', weight = 'bold')\n",
    "ax = ax    "
   ]
  },
  {
   "cell_type": "code",
   "execution_count": 56,
   "metadata": {},
   "outputs": [
    {
     "data": {
      "text/plain": [
       "mes\n",
       "1      67514\n",
       "2     210200\n",
       "3     252185\n",
       "4     208725\n",
       "5     202530\n",
       "6     138123\n",
       "7     123790\n",
       "8     232793\n",
       "9     208234\n",
       "10    188410\n",
       "11    164222\n",
       "12     75796\n",
       "Name: quantidade, dtype: int64"
      ]
     },
     "execution_count": 56,
     "metadata": {},
     "output_type": "execute_result"
    }
   ],
   "source": [
    "# Quantos foram por cada mês?\n",
    "\n",
    "emprestimos_por_mes = emprestimos_data.groupby(by=emprestimos_data.data.dt.month)['quantidade'].sum()\n",
    "emprestimos_por_mes.index.name = 'mes'\n",
    "emprestimos_por_mes"
   ]
  },
  {
   "cell_type": "code",
   "execution_count": 94,
   "metadata": {},
   "outputs": [
    {
     "data": {
      "text/plain": [
       "mes\n",
       "NaN     67514\n",
       "NaN    210200\n",
       "NaN    252185\n",
       "NaN    208725\n",
       "NaN    202530\n",
       "NaN    138123\n",
       "NaN    123790\n",
       "NaN    232793\n",
       "NaN    208234\n",
       "NaN    188410\n",
       "NaN    164222\n",
       "NaN     75796\n",
       "Name: quantidade, dtype: int64"
      ]
     },
     "execution_count": 94,
     "metadata": {},
     "output_type": "execute_result"
    }
   ],
   "source": [
    "# Modificando os números por nomes dos meses\n",
    "\n",
    "dicionario_meses = {\n",
    "    'Jan': 'Janeiro',\n",
    "    'Fev': 'Fevereiro',\n",
    "    'Mar': 'Março',\n",
    "    'Abr': 'Abril',\n",
    "    'Mai': 'Maio',\n",
    "    'Jun': 'Junho',\n",
    "    'Jul': 'Julho',\n",
    "    'Ago': 'Agosto',\n",
    "    'Set': 'Setembro',\n",
    "    'Out': 'Outubro',\n",
    "    'Nov': 'Novembro',\n",
    "    'Dez': 'Dezembro'\n",
    "}\n"
   ]
  },
  {
   "cell_type": "code",
   "execution_count": 95,
   "metadata": {},
   "outputs": [
    {
     "data": {
      "text/plain": [
       "mes\n",
       "NaN     67514\n",
       "NaN    210200\n",
       "NaN    252185\n",
       "NaN    208725\n",
       "NaN    202530\n",
       "NaN    138123\n",
       "NaN    123790\n",
       "NaN    232793\n",
       "NaN    208234\n",
       "NaN    188410\n",
       "NaN    164222\n",
       "NaN     75796\n",
       "Name: quantidade, dtype: int64"
      ]
     },
     "execution_count": 95,
     "metadata": {},
     "output_type": "execute_result"
    }
   ],
   "source": [
    "emprestimos_por_mes.index = emprestimos_por_mes.index.map(dicionario_meses)\n",
    "emprestimos_por_mes"
   ]
  },
  {
   "cell_type": "code",
   "execution_count": 96,
   "metadata": {},
   "outputs": [
    {
     "ename": "TypeError",
     "evalue": "Data source must be a DataFrame or Mapping, not <class 'pandas.core.series.Series'>.",
     "output_type": "error",
     "traceback": [
      "\u001b[1;31m---------------------------------------------------------------------------\u001b[0m",
      "\u001b[1;31mTypeError\u001b[0m                                 Traceback (most recent call last)",
      "Cell \u001b[1;32mIn[96], line 1\u001b[0m\n\u001b[1;32m----> 1\u001b[0m ax \u001b[38;5;241m=\u001b[39m \u001b[43msns\u001b[49m\u001b[38;5;241;43m.\u001b[39;49m\u001b[43mlineplot\u001b[49m\u001b[43m(\u001b[49m\u001b[43mdata\u001b[49m\u001b[43m \u001b[49m\u001b[38;5;241;43m=\u001b[39;49m\u001b[43m \u001b[49m\u001b[43memprestimos_por_mes\u001b[49m\u001b[43m,\u001b[49m\u001b[43m \u001b[49m\u001b[43mx\u001b[49m\u001b[43m \u001b[49m\u001b[38;5;241;43m=\u001b[39;49m\u001b[43m \u001b[49m\u001b[38;5;124;43m'\u001b[39;49m\u001b[38;5;124;43mmes\u001b[39;49m\u001b[38;5;124;43m'\u001b[39;49m\u001b[43m,\u001b[49m\u001b[43m \u001b[49m\u001b[43my\u001b[49m\u001b[43m \u001b[49m\u001b[38;5;241;43m=\u001b[39;49m\u001b[43m \u001b[49m\u001b[38;5;124;43m'\u001b[39;49m\u001b[38;5;124;43mquantidade\u001b[39;49m\u001b[38;5;124;43m'\u001b[39;49m\u001b[43m)\u001b[49m\n\u001b[0;32m      2\u001b[0m ax\u001b[38;5;241m.\u001b[39mset(xlabel \u001b[38;5;241m=\u001b[39m \u001b[38;5;28;01mNone\u001b[39;00m , ylabel \u001b[38;5;241m=\u001b[39m \u001b[38;5;28;01mNone\u001b[39;00m)\n\u001b[0;32m      3\u001b[0m ax\u001b[38;5;241m.\u001b[39mtick_params(axis \u001b[38;5;241m=\u001b[39m \u001b[38;5;124m'\u001b[39m\u001b[38;5;124mx\u001b[39m\u001b[38;5;124m'\u001b[39m, rotation \u001b[38;5;241m=\u001b[39m \u001b[38;5;241m30\u001b[39m)\n",
      "File \u001b[1;32m~\\AppData\\Local\\Packages\\PythonSoftwareFoundation.Python.3.11_qbz5n2kfra8p0\\LocalCache\\local-packages\\Python311\\site-packages\\seaborn\\relational.py:485\u001b[0m, in \u001b[0;36mlineplot\u001b[1;34m(data, x, y, hue, size, style, units, weights, palette, hue_order, hue_norm, sizes, size_order, size_norm, dashes, markers, style_order, estimator, errorbar, n_boot, seed, orient, sort, err_style, err_kws, legend, ci, ax, **kwargs)\u001b[0m\n\u001b[0;32m    471\u001b[0m \u001b[38;5;28;01mdef\u001b[39;00m \u001b[38;5;21mlineplot\u001b[39m(\n\u001b[0;32m    472\u001b[0m     data\u001b[38;5;241m=\u001b[39m\u001b[38;5;28;01mNone\u001b[39;00m, \u001b[38;5;241m*\u001b[39m,\n\u001b[0;32m    473\u001b[0m     x\u001b[38;5;241m=\u001b[39m\u001b[38;5;28;01mNone\u001b[39;00m, y\u001b[38;5;241m=\u001b[39m\u001b[38;5;28;01mNone\u001b[39;00m, hue\u001b[38;5;241m=\u001b[39m\u001b[38;5;28;01mNone\u001b[39;00m, size\u001b[38;5;241m=\u001b[39m\u001b[38;5;28;01mNone\u001b[39;00m, style\u001b[38;5;241m=\u001b[39m\u001b[38;5;28;01mNone\u001b[39;00m, units\u001b[38;5;241m=\u001b[39m\u001b[38;5;28;01mNone\u001b[39;00m, weights\u001b[38;5;241m=\u001b[39m\u001b[38;5;28;01mNone\u001b[39;00m,\n\u001b[1;32m   (...)\u001b[0m\n\u001b[0;32m    481\u001b[0m \n\u001b[0;32m    482\u001b[0m     \u001b[38;5;66;03m# Handle deprecation of ci parameter\u001b[39;00m\n\u001b[0;32m    483\u001b[0m     errorbar \u001b[38;5;241m=\u001b[39m _deprecate_ci(errorbar, ci)\n\u001b[1;32m--> 485\u001b[0m     p \u001b[38;5;241m=\u001b[39m \u001b[43m_LinePlotter\u001b[49m\u001b[43m(\u001b[49m\n\u001b[0;32m    486\u001b[0m \u001b[43m        \u001b[49m\u001b[43mdata\u001b[49m\u001b[38;5;241;43m=\u001b[39;49m\u001b[43mdata\u001b[49m\u001b[43m,\u001b[49m\n\u001b[0;32m    487\u001b[0m \u001b[43m        \u001b[49m\u001b[43mvariables\u001b[49m\u001b[38;5;241;43m=\u001b[39;49m\u001b[38;5;28;43mdict\u001b[39;49m\u001b[43m(\u001b[49m\n\u001b[0;32m    488\u001b[0m \u001b[43m            \u001b[49m\u001b[43mx\u001b[49m\u001b[38;5;241;43m=\u001b[39;49m\u001b[43mx\u001b[49m\u001b[43m,\u001b[49m\u001b[43m \u001b[49m\u001b[43my\u001b[49m\u001b[38;5;241;43m=\u001b[39;49m\u001b[43my\u001b[49m\u001b[43m,\u001b[49m\u001b[43m \u001b[49m\u001b[43mhue\u001b[49m\u001b[38;5;241;43m=\u001b[39;49m\u001b[43mhue\u001b[49m\u001b[43m,\u001b[49m\u001b[43m \u001b[49m\u001b[43msize\u001b[49m\u001b[38;5;241;43m=\u001b[39;49m\u001b[43msize\u001b[49m\u001b[43m,\u001b[49m\u001b[43m \u001b[49m\u001b[43mstyle\u001b[49m\u001b[38;5;241;43m=\u001b[39;49m\u001b[43mstyle\u001b[49m\u001b[43m,\u001b[49m\u001b[43m \u001b[49m\u001b[43munits\u001b[49m\u001b[38;5;241;43m=\u001b[39;49m\u001b[43munits\u001b[49m\u001b[43m,\u001b[49m\u001b[43m \u001b[49m\u001b[43mweight\u001b[49m\u001b[38;5;241;43m=\u001b[39;49m\u001b[43mweights\u001b[49m\n\u001b[0;32m    489\u001b[0m \u001b[43m        \u001b[49m\u001b[43m)\u001b[49m\u001b[43m,\u001b[49m\n\u001b[0;32m    490\u001b[0m \u001b[43m        \u001b[49m\u001b[43mestimator\u001b[49m\u001b[38;5;241;43m=\u001b[39;49m\u001b[43mestimator\u001b[49m\u001b[43m,\u001b[49m\u001b[43m \u001b[49m\u001b[43mn_boot\u001b[49m\u001b[38;5;241;43m=\u001b[39;49m\u001b[43mn_boot\u001b[49m\u001b[43m,\u001b[49m\u001b[43m \u001b[49m\u001b[43mseed\u001b[49m\u001b[38;5;241;43m=\u001b[39;49m\u001b[43mseed\u001b[49m\u001b[43m,\u001b[49m\u001b[43m \u001b[49m\u001b[43merrorbar\u001b[49m\u001b[38;5;241;43m=\u001b[39;49m\u001b[43merrorbar\u001b[49m\u001b[43m,\u001b[49m\n\u001b[0;32m    491\u001b[0m \u001b[43m        \u001b[49m\u001b[43msort\u001b[49m\u001b[38;5;241;43m=\u001b[39;49m\u001b[43msort\u001b[49m\u001b[43m,\u001b[49m\u001b[43m \u001b[49m\u001b[43morient\u001b[49m\u001b[38;5;241;43m=\u001b[39;49m\u001b[43morient\u001b[49m\u001b[43m,\u001b[49m\u001b[43m \u001b[49m\u001b[43merr_style\u001b[49m\u001b[38;5;241;43m=\u001b[39;49m\u001b[43merr_style\u001b[49m\u001b[43m,\u001b[49m\u001b[43m \u001b[49m\u001b[43merr_kws\u001b[49m\u001b[38;5;241;43m=\u001b[39;49m\u001b[43merr_kws\u001b[49m\u001b[43m,\u001b[49m\n\u001b[0;32m    492\u001b[0m \u001b[43m        \u001b[49m\u001b[43mlegend\u001b[49m\u001b[38;5;241;43m=\u001b[39;49m\u001b[43mlegend\u001b[49m\u001b[43m,\u001b[49m\n\u001b[0;32m    493\u001b[0m \u001b[43m    \u001b[49m\u001b[43m)\u001b[49m\n\u001b[0;32m    495\u001b[0m     p\u001b[38;5;241m.\u001b[39mmap_hue(palette\u001b[38;5;241m=\u001b[39mpalette, order\u001b[38;5;241m=\u001b[39mhue_order, norm\u001b[38;5;241m=\u001b[39mhue_norm)\n\u001b[0;32m    496\u001b[0m     p\u001b[38;5;241m.\u001b[39mmap_size(sizes\u001b[38;5;241m=\u001b[39msizes, order\u001b[38;5;241m=\u001b[39msize_order, norm\u001b[38;5;241m=\u001b[39msize_norm)\n",
      "File \u001b[1;32m~\\AppData\\Local\\Packages\\PythonSoftwareFoundation.Python.3.11_qbz5n2kfra8p0\\LocalCache\\local-packages\\Python311\\site-packages\\seaborn\\relational.py:216\u001b[0m, in \u001b[0;36m_LinePlotter.__init__\u001b[1;34m(self, data, variables, estimator, n_boot, seed, errorbar, sort, orient, err_style, err_kws, legend)\u001b[0m\n\u001b[0;32m    202\u001b[0m \u001b[38;5;28;01mdef\u001b[39;00m \u001b[38;5;21m__init__\u001b[39m(\n\u001b[0;32m    203\u001b[0m     \u001b[38;5;28mself\u001b[39m, \u001b[38;5;241m*\u001b[39m,\n\u001b[0;32m    204\u001b[0m     data\u001b[38;5;241m=\u001b[39m\u001b[38;5;28;01mNone\u001b[39;00m, variables\u001b[38;5;241m=\u001b[39m{},\n\u001b[1;32m   (...)\u001b[0m\n\u001b[0;32m    210\u001b[0m     \u001b[38;5;66;03m# the kind of plot to draw, but for the time being we need to set\u001b[39;00m\n\u001b[0;32m    211\u001b[0m     \u001b[38;5;66;03m# this information so the SizeMapping can use it\u001b[39;00m\n\u001b[0;32m    212\u001b[0m     \u001b[38;5;28mself\u001b[39m\u001b[38;5;241m.\u001b[39m_default_size_range \u001b[38;5;241m=\u001b[39m (\n\u001b[0;32m    213\u001b[0m         np\u001b[38;5;241m.\u001b[39mr_[\u001b[38;5;241m.5\u001b[39m, \u001b[38;5;241m2\u001b[39m] \u001b[38;5;241m*\u001b[39m mpl\u001b[38;5;241m.\u001b[39mrcParams[\u001b[38;5;124m\"\u001b[39m\u001b[38;5;124mlines.linewidth\u001b[39m\u001b[38;5;124m\"\u001b[39m]\n\u001b[0;32m    214\u001b[0m     )\n\u001b[1;32m--> 216\u001b[0m     \u001b[38;5;28;43msuper\u001b[39;49m\u001b[43m(\u001b[49m\u001b[43m)\u001b[49m\u001b[38;5;241;43m.\u001b[39;49m\u001b[38;5;21;43m__init__\u001b[39;49m\u001b[43m(\u001b[49m\u001b[43mdata\u001b[49m\u001b[38;5;241;43m=\u001b[39;49m\u001b[43mdata\u001b[49m\u001b[43m,\u001b[49m\u001b[43m \u001b[49m\u001b[43mvariables\u001b[49m\u001b[38;5;241;43m=\u001b[39;49m\u001b[43mvariables\u001b[49m\u001b[43m)\u001b[49m\n\u001b[0;32m    218\u001b[0m     \u001b[38;5;28mself\u001b[39m\u001b[38;5;241m.\u001b[39mestimator \u001b[38;5;241m=\u001b[39m estimator\n\u001b[0;32m    219\u001b[0m     \u001b[38;5;28mself\u001b[39m\u001b[38;5;241m.\u001b[39merrorbar \u001b[38;5;241m=\u001b[39m errorbar\n",
      "File \u001b[1;32m~\\AppData\\Local\\Packages\\PythonSoftwareFoundation.Python.3.11_qbz5n2kfra8p0\\LocalCache\\local-packages\\Python311\\site-packages\\seaborn\\_base.py:634\u001b[0m, in \u001b[0;36mVectorPlotter.__init__\u001b[1;34m(self, data, variables)\u001b[0m\n\u001b[0;32m    629\u001b[0m \u001b[38;5;66;03m# var_ordered is relevant only for categorical axis variables, and may\u001b[39;00m\n\u001b[0;32m    630\u001b[0m \u001b[38;5;66;03m# be better handled by an internal axis information object that tracks\u001b[39;00m\n\u001b[0;32m    631\u001b[0m \u001b[38;5;66;03m# such information and is set up by the scale_* methods. The analogous\u001b[39;00m\n\u001b[0;32m    632\u001b[0m \u001b[38;5;66;03m# information for numeric axes would be information about log scales.\u001b[39;00m\n\u001b[0;32m    633\u001b[0m \u001b[38;5;28mself\u001b[39m\u001b[38;5;241m.\u001b[39m_var_ordered \u001b[38;5;241m=\u001b[39m {\u001b[38;5;124m\"\u001b[39m\u001b[38;5;124mx\u001b[39m\u001b[38;5;124m\"\u001b[39m: \u001b[38;5;28;01mFalse\u001b[39;00m, \u001b[38;5;124m\"\u001b[39m\u001b[38;5;124my\u001b[39m\u001b[38;5;124m\"\u001b[39m: \u001b[38;5;28;01mFalse\u001b[39;00m}  \u001b[38;5;66;03m# alt., used DefaultDict\u001b[39;00m\n\u001b[1;32m--> 634\u001b[0m \u001b[38;5;28;43mself\u001b[39;49m\u001b[38;5;241;43m.\u001b[39;49m\u001b[43massign_variables\u001b[49m\u001b[43m(\u001b[49m\u001b[43mdata\u001b[49m\u001b[43m,\u001b[49m\u001b[43m \u001b[49m\u001b[43mvariables\u001b[49m\u001b[43m)\u001b[49m\n\u001b[0;32m    636\u001b[0m \u001b[38;5;66;03m# TODO Lots of tests assume that these are called to initialize the\u001b[39;00m\n\u001b[0;32m    637\u001b[0m \u001b[38;5;66;03m# mappings to default values on class initialization. I'd prefer to\u001b[39;00m\n\u001b[0;32m    638\u001b[0m \u001b[38;5;66;03m# move away from that and only have a mapping when explicitly called.\u001b[39;00m\n\u001b[0;32m    639\u001b[0m \u001b[38;5;28;01mfor\u001b[39;00m var \u001b[38;5;129;01min\u001b[39;00m [\u001b[38;5;124m\"\u001b[39m\u001b[38;5;124mhue\u001b[39m\u001b[38;5;124m\"\u001b[39m, \u001b[38;5;124m\"\u001b[39m\u001b[38;5;124msize\u001b[39m\u001b[38;5;124m\"\u001b[39m, \u001b[38;5;124m\"\u001b[39m\u001b[38;5;124mstyle\u001b[39m\u001b[38;5;124m\"\u001b[39m]:\n",
      "File \u001b[1;32m~\\AppData\\Local\\Packages\\PythonSoftwareFoundation.Python.3.11_qbz5n2kfra8p0\\LocalCache\\local-packages\\Python311\\site-packages\\seaborn\\_base.py:679\u001b[0m, in \u001b[0;36mVectorPlotter.assign_variables\u001b[1;34m(self, data, variables)\u001b[0m\n\u001b[0;32m    674\u001b[0m \u001b[38;5;28;01melse\u001b[39;00m:\n\u001b[0;32m    675\u001b[0m     \u001b[38;5;66;03m# When dealing with long-form input, use the newer PlotData\u001b[39;00m\n\u001b[0;32m    676\u001b[0m     \u001b[38;5;66;03m# object (internal but introduced for the objects interface)\u001b[39;00m\n\u001b[0;32m    677\u001b[0m     \u001b[38;5;66;03m# to centralize / standardize data consumption logic.\u001b[39;00m\n\u001b[0;32m    678\u001b[0m     \u001b[38;5;28mself\u001b[39m\u001b[38;5;241m.\u001b[39minput_format \u001b[38;5;241m=\u001b[39m \u001b[38;5;124m\"\u001b[39m\u001b[38;5;124mlong\u001b[39m\u001b[38;5;124m\"\u001b[39m\n\u001b[1;32m--> 679\u001b[0m     plot_data \u001b[38;5;241m=\u001b[39m \u001b[43mPlotData\u001b[49m\u001b[43m(\u001b[49m\u001b[43mdata\u001b[49m\u001b[43m,\u001b[49m\u001b[43m \u001b[49m\u001b[43mvariables\u001b[49m\u001b[43m)\u001b[49m\n\u001b[0;32m    680\u001b[0m     frame \u001b[38;5;241m=\u001b[39m plot_data\u001b[38;5;241m.\u001b[39mframe\n\u001b[0;32m    681\u001b[0m     names \u001b[38;5;241m=\u001b[39m plot_data\u001b[38;5;241m.\u001b[39mnames\n",
      "File \u001b[1;32m~\\AppData\\Local\\Packages\\PythonSoftwareFoundation.Python.3.11_qbz5n2kfra8p0\\LocalCache\\local-packages\\Python311\\site-packages\\seaborn\\_core\\data.py:57\u001b[0m, in \u001b[0;36mPlotData.__init__\u001b[1;34m(self, data, variables)\u001b[0m\n\u001b[0;32m     51\u001b[0m \u001b[38;5;28;01mdef\u001b[39;00m \u001b[38;5;21m__init__\u001b[39m(\n\u001b[0;32m     52\u001b[0m     \u001b[38;5;28mself\u001b[39m,\n\u001b[0;32m     53\u001b[0m     data: DataSource,\n\u001b[0;32m     54\u001b[0m     variables: \u001b[38;5;28mdict\u001b[39m[\u001b[38;5;28mstr\u001b[39m, VariableSpec],\n\u001b[0;32m     55\u001b[0m ):\n\u001b[1;32m---> 57\u001b[0m     data \u001b[38;5;241m=\u001b[39m \u001b[43mhandle_data_source\u001b[49m\u001b[43m(\u001b[49m\u001b[43mdata\u001b[49m\u001b[43m)\u001b[49m\n\u001b[0;32m     58\u001b[0m     frame, names, ids \u001b[38;5;241m=\u001b[39m \u001b[38;5;28mself\u001b[39m\u001b[38;5;241m.\u001b[39m_assign_variables(data, variables)\n\u001b[0;32m     60\u001b[0m     \u001b[38;5;28mself\u001b[39m\u001b[38;5;241m.\u001b[39mframe \u001b[38;5;241m=\u001b[39m frame\n",
      "File \u001b[1;32m~\\AppData\\Local\\Packages\\PythonSoftwareFoundation.Python.3.11_qbz5n2kfra8p0\\LocalCache\\local-packages\\Python311\\site-packages\\seaborn\\_core\\data.py:278\u001b[0m, in \u001b[0;36mhandle_data_source\u001b[1;34m(data)\u001b[0m\n\u001b[0;32m    276\u001b[0m \u001b[38;5;28;01melif\u001b[39;00m data \u001b[38;5;129;01mis\u001b[39;00m \u001b[38;5;129;01mnot\u001b[39;00m \u001b[38;5;28;01mNone\u001b[39;00m \u001b[38;5;129;01mand\u001b[39;00m \u001b[38;5;129;01mnot\u001b[39;00m \u001b[38;5;28misinstance\u001b[39m(data, Mapping):\n\u001b[0;32m    277\u001b[0m     err \u001b[38;5;241m=\u001b[39m \u001b[38;5;124mf\u001b[39m\u001b[38;5;124m\"\u001b[39m\u001b[38;5;124mData source must be a DataFrame or Mapping, not \u001b[39m\u001b[38;5;132;01m{\u001b[39;00m\u001b[38;5;28mtype\u001b[39m(data)\u001b[38;5;132;01m!r}\u001b[39;00m\u001b[38;5;124m.\u001b[39m\u001b[38;5;124m\"\u001b[39m\n\u001b[1;32m--> 278\u001b[0m     \u001b[38;5;28;01mraise\u001b[39;00m \u001b[38;5;167;01mTypeError\u001b[39;00m(err)\n\u001b[0;32m    280\u001b[0m \u001b[38;5;28;01mreturn\u001b[39;00m data\n",
      "\u001b[1;31mTypeError\u001b[0m: Data source must be a DataFrame or Mapping, not <class 'pandas.core.series.Series'>."
     ]
    }
   ],
   "source": [
    "ax = sns.lineplot(data = emprestimos_por_mes, x = 'mes', y = 'quantidade')\n",
    "ax.set(xlabel = None , ylabel = None)\n",
    "ax.tick_params(axis = 'x', rotation = 30)\n",
    "ax.yaxis.set_major_formatter(ticker.FuncFormatter(lambda x, p: format(int(x), ',').replace(',', '.')))\n",
    "\n",
    "ax.set_title('Quantidade de exemplares emprestados do SISBI por mês'+'\\n ', size = 20, loc = 'left', color = 'black', weight = 'bold')\n",
    "ax.text(s = 'Período de 2010 a 2020', x= -0.5, y=265000, fontsize = 18, ha = 'left', color = 'grey')\n",
    "ax = ax   "
   ]
  },
  {
   "cell_type": "code",
   "execution_count": null,
   "metadata": {},
   "outputs": [
    {
     "data": {
      "text/plain": [
       "0         2015-06-10 18:51:56.994\n",
       "1         2014-01-28 14:49:50.505\n",
       "2         2014-05-12 09:56:18.787\n",
       "3         2016-04-20 21:07:44.036\n",
       "4         2015-05-05 20:37:19.551\n",
       "                    ...          \n",
       "2068686   2010-01-04 09:21:19.099\n",
       "2068687   2010-01-04 09:21:19.126\n",
       "2068688   2010-01-04 09:42:28.589\n",
       "2068689   2010-01-04 09:48:05.637\n",
       "2068690   2010-01-04 09:56:42.325\n",
       "Name: data, Length: 2068691, dtype: datetime64[ns]"
      ]
     },
     "execution_count": 72,
     "metadata": {},
     "output_type": "execute_result"
    }
   ],
   "source": [
    "# Qual a quantidade de empréstimos por hora ao longo do dia?\n",
    "\n",
    "emprestimos_data.data "
   ]
  },
  {
   "cell_type": "code",
   "execution_count": null,
   "metadata": {},
   "outputs": [
    {
     "ename": "TypeError",
     "evalue": "datetime64 type does not support sum operations",
     "output_type": "error",
     "traceback": [
      "\u001b[1;31m---------------------------------------------------------------------------\u001b[0m",
      "\u001b[1;31mTypeError\u001b[0m                                 Traceback (most recent call last)",
      "Cell \u001b[1;32mIn[73], line 1\u001b[0m\n\u001b[1;32m----> 1\u001b[0m emprestimos_por_hora \u001b[38;5;241m=\u001b[39m \u001b[43memprestimos_data\u001b[49m\u001b[38;5;241;43m.\u001b[39;49m\u001b[43mgroupby\u001b[49m\u001b[43m(\u001b[49m\u001b[43mby\u001b[49m\u001b[38;5;241;43m=\u001b[39;49m\u001b[43memprestimos_data\u001b[49m\u001b[38;5;241;43m.\u001b[39;49m\u001b[43mdata\u001b[49m\u001b[38;5;241;43m.\u001b[39;49m\u001b[43mdt\u001b[49m\u001b[38;5;241;43m.\u001b[39;49m\u001b[43mhour\u001b[49m\u001b[43m)\u001b[49m\u001b[38;5;241;43m.\u001b[39;49m\u001b[43msum\u001b[49m\u001b[43m(\u001b[49m\u001b[43m)\u001b[49m\n\u001b[0;32m      2\u001b[0m emprestimos_por_hora\u001b[38;5;241m.\u001b[39mindex\u001b[38;5;241m.\u001b[39mname \u001b[38;5;241m=\u001b[39m \u001b[38;5;124m'\u001b[39m\u001b[38;5;124mhoras\u001b[39m\u001b[38;5;124m'\u001b[39m\n\u001b[0;32m      3\u001b[0m emprestimos_por_hora \u001b[38;5;241m=\u001b[39m emprestimos_por_hora\u001b[38;5;241m.\u001b[39mreset_index()\n",
      "File \u001b[1;32m~\\AppData\\Local\\Packages\\PythonSoftwareFoundation.Python.3.11_qbz5n2kfra8p0\\LocalCache\\local-packages\\Python311\\site-packages\\pandas\\core\\groupby\\groupby.py:3146\u001b[0m, in \u001b[0;36mGroupBy.sum\u001b[1;34m(self, numeric_only, min_count, engine, engine_kwargs)\u001b[0m\n\u001b[0;32m   3141\u001b[0m \u001b[38;5;28;01melse\u001b[39;00m:\n\u001b[0;32m   3142\u001b[0m     \u001b[38;5;66;03m# If we are grouping on categoricals we want unobserved categories to\u001b[39;00m\n\u001b[0;32m   3143\u001b[0m     \u001b[38;5;66;03m# return zero, rather than the default of NaN which the reindexing in\u001b[39;00m\n\u001b[0;32m   3144\u001b[0m     \u001b[38;5;66;03m# _agg_general() returns. GH #31422\u001b[39;00m\n\u001b[0;32m   3145\u001b[0m     \u001b[38;5;28;01mwith\u001b[39;00m com\u001b[38;5;241m.\u001b[39mtemp_setattr(\u001b[38;5;28mself\u001b[39m, \u001b[38;5;124m\"\u001b[39m\u001b[38;5;124mobserved\u001b[39m\u001b[38;5;124m\"\u001b[39m, \u001b[38;5;28;01mTrue\u001b[39;00m):\n\u001b[1;32m-> 3146\u001b[0m         result \u001b[38;5;241m=\u001b[39m \u001b[38;5;28;43mself\u001b[39;49m\u001b[38;5;241;43m.\u001b[39;49m\u001b[43m_agg_general\u001b[49m\u001b[43m(\u001b[49m\n\u001b[0;32m   3147\u001b[0m \u001b[43m            \u001b[49m\u001b[43mnumeric_only\u001b[49m\u001b[38;5;241;43m=\u001b[39;49m\u001b[43mnumeric_only\u001b[49m\u001b[43m,\u001b[49m\n\u001b[0;32m   3148\u001b[0m \u001b[43m            \u001b[49m\u001b[43mmin_count\u001b[49m\u001b[38;5;241;43m=\u001b[39;49m\u001b[43mmin_count\u001b[49m\u001b[43m,\u001b[49m\n\u001b[0;32m   3149\u001b[0m \u001b[43m            \u001b[49m\u001b[43malias\u001b[49m\u001b[38;5;241;43m=\u001b[39;49m\u001b[38;5;124;43m\"\u001b[39;49m\u001b[38;5;124;43msum\u001b[39;49m\u001b[38;5;124;43m\"\u001b[39;49m\u001b[43m,\u001b[49m\n\u001b[0;32m   3150\u001b[0m \u001b[43m            \u001b[49m\u001b[43mnpfunc\u001b[49m\u001b[38;5;241;43m=\u001b[39;49m\u001b[43mnp\u001b[49m\u001b[38;5;241;43m.\u001b[39;49m\u001b[43msum\u001b[49m\u001b[43m,\u001b[49m\n\u001b[0;32m   3151\u001b[0m \u001b[43m        \u001b[49m\u001b[43m)\u001b[49m\n\u001b[0;32m   3153\u001b[0m     \u001b[38;5;28;01mreturn\u001b[39;00m \u001b[38;5;28mself\u001b[39m\u001b[38;5;241m.\u001b[39m_reindex_output(result, fill_value\u001b[38;5;241m=\u001b[39m\u001b[38;5;241m0\u001b[39m)\n",
      "File \u001b[1;32m~\\AppData\\Local\\Packages\\PythonSoftwareFoundation.Python.3.11_qbz5n2kfra8p0\\LocalCache\\local-packages\\Python311\\site-packages\\pandas\\core\\groupby\\groupby.py:1906\u001b[0m, in \u001b[0;36mGroupBy._agg_general\u001b[1;34m(self, numeric_only, min_count, alias, npfunc, **kwargs)\u001b[0m\n\u001b[0;32m   1896\u001b[0m \u001b[38;5;129m@final\u001b[39m\n\u001b[0;32m   1897\u001b[0m \u001b[38;5;28;01mdef\u001b[39;00m \u001b[38;5;21m_agg_general\u001b[39m(\n\u001b[0;32m   1898\u001b[0m     \u001b[38;5;28mself\u001b[39m,\n\u001b[1;32m   (...)\u001b[0m\n\u001b[0;32m   1904\u001b[0m     \u001b[38;5;241m*\u001b[39m\u001b[38;5;241m*\u001b[39mkwargs,\n\u001b[0;32m   1905\u001b[0m ):\n\u001b[1;32m-> 1906\u001b[0m     result \u001b[38;5;241m=\u001b[39m \u001b[38;5;28;43mself\u001b[39;49m\u001b[38;5;241;43m.\u001b[39;49m\u001b[43m_cython_agg_general\u001b[49m\u001b[43m(\u001b[49m\n\u001b[0;32m   1907\u001b[0m \u001b[43m        \u001b[49m\u001b[43mhow\u001b[49m\u001b[38;5;241;43m=\u001b[39;49m\u001b[43malias\u001b[49m\u001b[43m,\u001b[49m\n\u001b[0;32m   1908\u001b[0m \u001b[43m        \u001b[49m\u001b[43malt\u001b[49m\u001b[38;5;241;43m=\u001b[39;49m\u001b[43mnpfunc\u001b[49m\u001b[43m,\u001b[49m\n\u001b[0;32m   1909\u001b[0m \u001b[43m        \u001b[49m\u001b[43mnumeric_only\u001b[49m\u001b[38;5;241;43m=\u001b[39;49m\u001b[43mnumeric_only\u001b[49m\u001b[43m,\u001b[49m\n\u001b[0;32m   1910\u001b[0m \u001b[43m        \u001b[49m\u001b[43mmin_count\u001b[49m\u001b[38;5;241;43m=\u001b[39;49m\u001b[43mmin_count\u001b[49m\u001b[43m,\u001b[49m\n\u001b[0;32m   1911\u001b[0m \u001b[43m        \u001b[49m\u001b[38;5;241;43m*\u001b[39;49m\u001b[38;5;241;43m*\u001b[39;49m\u001b[43mkwargs\u001b[49m\u001b[43m,\u001b[49m\n\u001b[0;32m   1912\u001b[0m \u001b[43m    \u001b[49m\u001b[43m)\u001b[49m\n\u001b[0;32m   1913\u001b[0m     \u001b[38;5;28;01mreturn\u001b[39;00m result\u001b[38;5;241m.\u001b[39m__finalize__(\u001b[38;5;28mself\u001b[39m\u001b[38;5;241m.\u001b[39mobj, method\u001b[38;5;241m=\u001b[39m\u001b[38;5;124m\"\u001b[39m\u001b[38;5;124mgroupby\u001b[39m\u001b[38;5;124m\"\u001b[39m)\n",
      "File \u001b[1;32m~\\AppData\\Local\\Packages\\PythonSoftwareFoundation.Python.3.11_qbz5n2kfra8p0\\LocalCache\\local-packages\\Python311\\site-packages\\pandas\\core\\groupby\\groupby.py:1998\u001b[0m, in \u001b[0;36mGroupBy._cython_agg_general\u001b[1;34m(self, how, alt, numeric_only, min_count, **kwargs)\u001b[0m\n\u001b[0;32m   1995\u001b[0m     result \u001b[38;5;241m=\u001b[39m \u001b[38;5;28mself\u001b[39m\u001b[38;5;241m.\u001b[39m_agg_py_fallback(how, values, ndim\u001b[38;5;241m=\u001b[39mdata\u001b[38;5;241m.\u001b[39mndim, alt\u001b[38;5;241m=\u001b[39malt)\n\u001b[0;32m   1996\u001b[0m     \u001b[38;5;28;01mreturn\u001b[39;00m result\n\u001b[1;32m-> 1998\u001b[0m new_mgr \u001b[38;5;241m=\u001b[39m \u001b[43mdata\u001b[49m\u001b[38;5;241;43m.\u001b[39;49m\u001b[43mgrouped_reduce\u001b[49m\u001b[43m(\u001b[49m\u001b[43marray_func\u001b[49m\u001b[43m)\u001b[49m\n\u001b[0;32m   1999\u001b[0m res \u001b[38;5;241m=\u001b[39m \u001b[38;5;28mself\u001b[39m\u001b[38;5;241m.\u001b[39m_wrap_agged_manager(new_mgr)\n\u001b[0;32m   2000\u001b[0m \u001b[38;5;28;01mif\u001b[39;00m how \u001b[38;5;129;01min\u001b[39;00m [\u001b[38;5;124m\"\u001b[39m\u001b[38;5;124midxmin\u001b[39m\u001b[38;5;124m\"\u001b[39m, \u001b[38;5;124m\"\u001b[39m\u001b[38;5;124midxmax\u001b[39m\u001b[38;5;124m\"\u001b[39m]:\n",
      "File \u001b[1;32m~\\AppData\\Local\\Packages\\PythonSoftwareFoundation.Python.3.11_qbz5n2kfra8p0\\LocalCache\\local-packages\\Python311\\site-packages\\pandas\\core\\internals\\managers.py:1472\u001b[0m, in \u001b[0;36mBlockManager.grouped_reduce\u001b[1;34m(self, func)\u001b[0m\n\u001b[0;32m   1470\u001b[0m             result_blocks \u001b[38;5;241m=\u001b[39m extend_blocks(applied, result_blocks)\n\u001b[0;32m   1471\u001b[0m     \u001b[38;5;28;01melse\u001b[39;00m:\n\u001b[1;32m-> 1472\u001b[0m         applied \u001b[38;5;241m=\u001b[39m \u001b[43mblk\u001b[49m\u001b[38;5;241;43m.\u001b[39;49m\u001b[43mapply\u001b[49m\u001b[43m(\u001b[49m\u001b[43mfunc\u001b[49m\u001b[43m)\u001b[49m\n\u001b[0;32m   1473\u001b[0m         result_blocks \u001b[38;5;241m=\u001b[39m extend_blocks(applied, result_blocks)\n\u001b[0;32m   1475\u001b[0m \u001b[38;5;28;01mif\u001b[39;00m \u001b[38;5;28mlen\u001b[39m(result_blocks) \u001b[38;5;241m==\u001b[39m \u001b[38;5;241m0\u001b[39m:\n",
      "File \u001b[1;32m~\\AppData\\Local\\Packages\\PythonSoftwareFoundation.Python.3.11_qbz5n2kfra8p0\\LocalCache\\local-packages\\Python311\\site-packages\\pandas\\core\\internals\\blocks.py:393\u001b[0m, in \u001b[0;36mBlock.apply\u001b[1;34m(self, func, **kwargs)\u001b[0m\n\u001b[0;32m    387\u001b[0m \u001b[38;5;129m@final\u001b[39m\n\u001b[0;32m    388\u001b[0m \u001b[38;5;28;01mdef\u001b[39;00m \u001b[38;5;21mapply\u001b[39m(\u001b[38;5;28mself\u001b[39m, func, \u001b[38;5;241m*\u001b[39m\u001b[38;5;241m*\u001b[39mkwargs) \u001b[38;5;241m-\u001b[39m\u001b[38;5;241m>\u001b[39m \u001b[38;5;28mlist\u001b[39m[Block]:\n\u001b[0;32m    389\u001b[0m \u001b[38;5;250m    \u001b[39m\u001b[38;5;124;03m\"\"\"\u001b[39;00m\n\u001b[0;32m    390\u001b[0m \u001b[38;5;124;03m    apply the function to my values; return a block if we are not\u001b[39;00m\n\u001b[0;32m    391\u001b[0m \u001b[38;5;124;03m    one\u001b[39;00m\n\u001b[0;32m    392\u001b[0m \u001b[38;5;124;03m    \"\"\"\u001b[39;00m\n\u001b[1;32m--> 393\u001b[0m     result \u001b[38;5;241m=\u001b[39m \u001b[43mfunc\u001b[49m\u001b[43m(\u001b[49m\u001b[38;5;28;43mself\u001b[39;49m\u001b[38;5;241;43m.\u001b[39;49m\u001b[43mvalues\u001b[49m\u001b[43m,\u001b[49m\u001b[43m \u001b[49m\u001b[38;5;241;43m*\u001b[39;49m\u001b[38;5;241;43m*\u001b[39;49m\u001b[43mkwargs\u001b[49m\u001b[43m)\u001b[49m\n\u001b[0;32m    395\u001b[0m     result \u001b[38;5;241m=\u001b[39m maybe_coerce_values(result)\n\u001b[0;32m    396\u001b[0m     \u001b[38;5;28;01mreturn\u001b[39;00m \u001b[38;5;28mself\u001b[39m\u001b[38;5;241m.\u001b[39m_split_op_result(result)\n",
      "File \u001b[1;32m~\\AppData\\Local\\Packages\\PythonSoftwareFoundation.Python.3.11_qbz5n2kfra8p0\\LocalCache\\local-packages\\Python311\\site-packages\\pandas\\core\\groupby\\groupby.py:1973\u001b[0m, in \u001b[0;36mGroupBy._cython_agg_general.<locals>.array_func\u001b[1;34m(values)\u001b[0m\n\u001b[0;32m   1971\u001b[0m \u001b[38;5;28;01mdef\u001b[39;00m \u001b[38;5;21marray_func\u001b[39m(values: ArrayLike) \u001b[38;5;241m-\u001b[39m\u001b[38;5;241m>\u001b[39m ArrayLike:\n\u001b[0;32m   1972\u001b[0m     \u001b[38;5;28;01mtry\u001b[39;00m:\n\u001b[1;32m-> 1973\u001b[0m         result \u001b[38;5;241m=\u001b[39m \u001b[38;5;28;43mself\u001b[39;49m\u001b[38;5;241;43m.\u001b[39;49m\u001b[43m_grouper\u001b[49m\u001b[38;5;241;43m.\u001b[39;49m\u001b[43m_cython_operation\u001b[49m\u001b[43m(\u001b[49m\n\u001b[0;32m   1974\u001b[0m \u001b[43m            \u001b[49m\u001b[38;5;124;43m\"\u001b[39;49m\u001b[38;5;124;43maggregate\u001b[39;49m\u001b[38;5;124;43m\"\u001b[39;49m\u001b[43m,\u001b[49m\n\u001b[0;32m   1975\u001b[0m \u001b[43m            \u001b[49m\u001b[43mvalues\u001b[49m\u001b[43m,\u001b[49m\n\u001b[0;32m   1976\u001b[0m \u001b[43m            \u001b[49m\u001b[43mhow\u001b[49m\u001b[43m,\u001b[49m\n\u001b[0;32m   1977\u001b[0m \u001b[43m            \u001b[49m\u001b[43maxis\u001b[49m\u001b[38;5;241;43m=\u001b[39;49m\u001b[43mdata\u001b[49m\u001b[38;5;241;43m.\u001b[39;49m\u001b[43mndim\u001b[49m\u001b[43m \u001b[49m\u001b[38;5;241;43m-\u001b[39;49m\u001b[43m \u001b[49m\u001b[38;5;241;43m1\u001b[39;49m\u001b[43m,\u001b[49m\n\u001b[0;32m   1978\u001b[0m \u001b[43m            \u001b[49m\u001b[43mmin_count\u001b[49m\u001b[38;5;241;43m=\u001b[39;49m\u001b[43mmin_count\u001b[49m\u001b[43m,\u001b[49m\n\u001b[0;32m   1979\u001b[0m \u001b[43m            \u001b[49m\u001b[38;5;241;43m*\u001b[39;49m\u001b[38;5;241;43m*\u001b[39;49m\u001b[43mkwargs\u001b[49m\u001b[43m,\u001b[49m\n\u001b[0;32m   1980\u001b[0m \u001b[43m        \u001b[49m\u001b[43m)\u001b[49m\n\u001b[0;32m   1981\u001b[0m     \u001b[38;5;28;01mexcept\u001b[39;00m \u001b[38;5;167;01mNotImplementedError\u001b[39;00m:\n\u001b[0;32m   1982\u001b[0m         \u001b[38;5;66;03m# generally if we have numeric_only=False\u001b[39;00m\n\u001b[0;32m   1983\u001b[0m         \u001b[38;5;66;03m# and non-applicable functions\u001b[39;00m\n\u001b[0;32m   1984\u001b[0m         \u001b[38;5;66;03m# try to python agg\u001b[39;00m\n\u001b[0;32m   1985\u001b[0m         \u001b[38;5;66;03m# TODO: shouldn't min_count matter?\u001b[39;00m\n\u001b[0;32m   1986\u001b[0m         \u001b[38;5;66;03m# TODO: avoid special casing SparseArray here\u001b[39;00m\n\u001b[0;32m   1987\u001b[0m         \u001b[38;5;28;01mif\u001b[39;00m how \u001b[38;5;129;01min\u001b[39;00m [\u001b[38;5;124m\"\u001b[39m\u001b[38;5;124many\u001b[39m\u001b[38;5;124m\"\u001b[39m, \u001b[38;5;124m\"\u001b[39m\u001b[38;5;124mall\u001b[39m\u001b[38;5;124m\"\u001b[39m] \u001b[38;5;129;01mand\u001b[39;00m \u001b[38;5;28misinstance\u001b[39m(values, SparseArray):\n",
      "File \u001b[1;32m~\\AppData\\Local\\Packages\\PythonSoftwareFoundation.Python.3.11_qbz5n2kfra8p0\\LocalCache\\local-packages\\Python311\\site-packages\\pandas\\core\\groupby\\ops.py:831\u001b[0m, in \u001b[0;36mBaseGrouper._cython_operation\u001b[1;34m(self, kind, values, how, axis, min_count, **kwargs)\u001b[0m\n\u001b[0;32m    829\u001b[0m ids, _, _ \u001b[38;5;241m=\u001b[39m \u001b[38;5;28mself\u001b[39m\u001b[38;5;241m.\u001b[39mgroup_info\n\u001b[0;32m    830\u001b[0m ngroups \u001b[38;5;241m=\u001b[39m \u001b[38;5;28mself\u001b[39m\u001b[38;5;241m.\u001b[39mngroups\n\u001b[1;32m--> 831\u001b[0m \u001b[38;5;28;01mreturn\u001b[39;00m \u001b[43mcy_op\u001b[49m\u001b[38;5;241;43m.\u001b[39;49m\u001b[43mcython_operation\u001b[49m\u001b[43m(\u001b[49m\n\u001b[0;32m    832\u001b[0m \u001b[43m    \u001b[49m\u001b[43mvalues\u001b[49m\u001b[38;5;241;43m=\u001b[39;49m\u001b[43mvalues\u001b[49m\u001b[43m,\u001b[49m\n\u001b[0;32m    833\u001b[0m \u001b[43m    \u001b[49m\u001b[43maxis\u001b[49m\u001b[38;5;241;43m=\u001b[39;49m\u001b[43maxis\u001b[49m\u001b[43m,\u001b[49m\n\u001b[0;32m    834\u001b[0m \u001b[43m    \u001b[49m\u001b[43mmin_count\u001b[49m\u001b[38;5;241;43m=\u001b[39;49m\u001b[43mmin_count\u001b[49m\u001b[43m,\u001b[49m\n\u001b[0;32m    835\u001b[0m \u001b[43m    \u001b[49m\u001b[43mcomp_ids\u001b[49m\u001b[38;5;241;43m=\u001b[39;49m\u001b[43mids\u001b[49m\u001b[43m,\u001b[49m\n\u001b[0;32m    836\u001b[0m \u001b[43m    \u001b[49m\u001b[43mngroups\u001b[49m\u001b[38;5;241;43m=\u001b[39;49m\u001b[43mngroups\u001b[49m\u001b[43m,\u001b[49m\n\u001b[0;32m    837\u001b[0m \u001b[43m    \u001b[49m\u001b[38;5;241;43m*\u001b[39;49m\u001b[38;5;241;43m*\u001b[39;49m\u001b[43mkwargs\u001b[49m\u001b[43m,\u001b[49m\n\u001b[0;32m    838\u001b[0m \u001b[43m\u001b[49m\u001b[43m)\u001b[49m\n",
      "File \u001b[1;32m~\\AppData\\Local\\Packages\\PythonSoftwareFoundation.Python.3.11_qbz5n2kfra8p0\\LocalCache\\local-packages\\Python311\\site-packages\\pandas\\core\\groupby\\ops.py:541\u001b[0m, in \u001b[0;36mWrappedCythonOp.cython_operation\u001b[1;34m(self, values, axis, min_count, comp_ids, ngroups, **kwargs)\u001b[0m\n\u001b[0;32m    537\u001b[0m \u001b[38;5;28mself\u001b[39m\u001b[38;5;241m.\u001b[39m_validate_axis(axis, values)\n\u001b[0;32m    539\u001b[0m \u001b[38;5;28;01mif\u001b[39;00m \u001b[38;5;129;01mnot\u001b[39;00m \u001b[38;5;28misinstance\u001b[39m(values, np\u001b[38;5;241m.\u001b[39mndarray):\n\u001b[0;32m    540\u001b[0m     \u001b[38;5;66;03m# i.e. ExtensionArray\u001b[39;00m\n\u001b[1;32m--> 541\u001b[0m     \u001b[38;5;28;01mreturn\u001b[39;00m \u001b[43mvalues\u001b[49m\u001b[38;5;241;43m.\u001b[39;49m\u001b[43m_groupby_op\u001b[49m\u001b[43m(\u001b[49m\n\u001b[0;32m    542\u001b[0m \u001b[43m        \u001b[49m\u001b[43mhow\u001b[49m\u001b[38;5;241;43m=\u001b[39;49m\u001b[38;5;28;43mself\u001b[39;49m\u001b[38;5;241;43m.\u001b[39;49m\u001b[43mhow\u001b[49m\u001b[43m,\u001b[49m\n\u001b[0;32m    543\u001b[0m \u001b[43m        \u001b[49m\u001b[43mhas_dropped_na\u001b[49m\u001b[38;5;241;43m=\u001b[39;49m\u001b[38;5;28;43mself\u001b[39;49m\u001b[38;5;241;43m.\u001b[39;49m\u001b[43mhas_dropped_na\u001b[49m\u001b[43m,\u001b[49m\n\u001b[0;32m    544\u001b[0m \u001b[43m        \u001b[49m\u001b[43mmin_count\u001b[49m\u001b[38;5;241;43m=\u001b[39;49m\u001b[43mmin_count\u001b[49m\u001b[43m,\u001b[49m\n\u001b[0;32m    545\u001b[0m \u001b[43m        \u001b[49m\u001b[43mngroups\u001b[49m\u001b[38;5;241;43m=\u001b[39;49m\u001b[43mngroups\u001b[49m\u001b[43m,\u001b[49m\n\u001b[0;32m    546\u001b[0m \u001b[43m        \u001b[49m\u001b[43mids\u001b[49m\u001b[38;5;241;43m=\u001b[39;49m\u001b[43mcomp_ids\u001b[49m\u001b[43m,\u001b[49m\n\u001b[0;32m    547\u001b[0m \u001b[43m        \u001b[49m\u001b[38;5;241;43m*\u001b[39;49m\u001b[38;5;241;43m*\u001b[39;49m\u001b[43mkwargs\u001b[49m\u001b[43m,\u001b[49m\n\u001b[0;32m    548\u001b[0m \u001b[43m    \u001b[49m\u001b[43m)\u001b[49m\n\u001b[0;32m    550\u001b[0m \u001b[38;5;28;01mreturn\u001b[39;00m \u001b[38;5;28mself\u001b[39m\u001b[38;5;241m.\u001b[39m_cython_op_ndim_compat(\n\u001b[0;32m    551\u001b[0m     values,\n\u001b[0;32m    552\u001b[0m     min_count\u001b[38;5;241m=\u001b[39mmin_count,\n\u001b[1;32m   (...)\u001b[0m\n\u001b[0;32m    556\u001b[0m     \u001b[38;5;241m*\u001b[39m\u001b[38;5;241m*\u001b[39mkwargs,\n\u001b[0;32m    557\u001b[0m )\n",
      "File \u001b[1;32m~\\AppData\\Local\\Packages\\PythonSoftwareFoundation.Python.3.11_qbz5n2kfra8p0\\LocalCache\\local-packages\\Python311\\site-packages\\pandas\\core\\arrays\\datetimelike.py:1671\u001b[0m, in \u001b[0;36mDatetimeLikeArrayMixin._groupby_op\u001b[1;34m(self, how, has_dropped_na, min_count, ngroups, ids, **kwargs)\u001b[0m\n\u001b[0;32m   1668\u001b[0m \u001b[38;5;28;01mif\u001b[39;00m dtype\u001b[38;5;241m.\u001b[39mkind \u001b[38;5;241m==\u001b[39m \u001b[38;5;124m\"\u001b[39m\u001b[38;5;124mM\u001b[39m\u001b[38;5;124m\"\u001b[39m:\n\u001b[0;32m   1669\u001b[0m     \u001b[38;5;66;03m# Adding/multiplying datetimes is not valid\u001b[39;00m\n\u001b[0;32m   1670\u001b[0m     \u001b[38;5;28;01mif\u001b[39;00m how \u001b[38;5;129;01min\u001b[39;00m [\u001b[38;5;124m\"\u001b[39m\u001b[38;5;124msum\u001b[39m\u001b[38;5;124m\"\u001b[39m, \u001b[38;5;124m\"\u001b[39m\u001b[38;5;124mprod\u001b[39m\u001b[38;5;124m\"\u001b[39m, \u001b[38;5;124m\"\u001b[39m\u001b[38;5;124mcumsum\u001b[39m\u001b[38;5;124m\"\u001b[39m, \u001b[38;5;124m\"\u001b[39m\u001b[38;5;124mcumprod\u001b[39m\u001b[38;5;124m\"\u001b[39m, \u001b[38;5;124m\"\u001b[39m\u001b[38;5;124mvar\u001b[39m\u001b[38;5;124m\"\u001b[39m, \u001b[38;5;124m\"\u001b[39m\u001b[38;5;124mskew\u001b[39m\u001b[38;5;124m\"\u001b[39m]:\n\u001b[1;32m-> 1671\u001b[0m         \u001b[38;5;28;01mraise\u001b[39;00m \u001b[38;5;167;01mTypeError\u001b[39;00m(\u001b[38;5;124mf\u001b[39m\u001b[38;5;124m\"\u001b[39m\u001b[38;5;124mdatetime64 type does not support \u001b[39m\u001b[38;5;132;01m{\u001b[39;00mhow\u001b[38;5;132;01m}\u001b[39;00m\u001b[38;5;124m operations\u001b[39m\u001b[38;5;124m\"\u001b[39m)\n\u001b[0;32m   1672\u001b[0m     \u001b[38;5;28;01mif\u001b[39;00m how \u001b[38;5;129;01min\u001b[39;00m [\u001b[38;5;124m\"\u001b[39m\u001b[38;5;124many\u001b[39m\u001b[38;5;124m\"\u001b[39m, \u001b[38;5;124m\"\u001b[39m\u001b[38;5;124mall\u001b[39m\u001b[38;5;124m\"\u001b[39m]:\n\u001b[0;32m   1673\u001b[0m         \u001b[38;5;66;03m# GH#34479\u001b[39;00m\n\u001b[0;32m   1674\u001b[0m         warnings\u001b[38;5;241m.\u001b[39mwarn(\n\u001b[0;32m   1675\u001b[0m             \u001b[38;5;124mf\u001b[39m\u001b[38;5;124m\"\u001b[39m\u001b[38;5;124m'\u001b[39m\u001b[38;5;132;01m{\u001b[39;00mhow\u001b[38;5;132;01m}\u001b[39;00m\u001b[38;5;124m'\u001b[39m\u001b[38;5;124m with datetime64 dtypes is deprecated and will raise in a \u001b[39m\u001b[38;5;124m\"\u001b[39m\n\u001b[0;32m   1676\u001b[0m             \u001b[38;5;124mf\u001b[39m\u001b[38;5;124m\"\u001b[39m\u001b[38;5;124mfuture version. Use (obj != pd.Timestamp(0)).\u001b[39m\u001b[38;5;132;01m{\u001b[39;00mhow\u001b[38;5;132;01m}\u001b[39;00m\u001b[38;5;124m() instead.\u001b[39m\u001b[38;5;124m\"\u001b[39m,\n\u001b[0;32m   1677\u001b[0m             \u001b[38;5;167;01mFutureWarning\u001b[39;00m,\n\u001b[0;32m   1678\u001b[0m             stacklevel\u001b[38;5;241m=\u001b[39mfind_stack_level(),\n\u001b[0;32m   1679\u001b[0m         )\n",
      "\u001b[1;31mTypeError\u001b[0m: datetime64 type does not support sum operations"
     ]
    }
   ],
   "source": [
    "emprestimos_por_hora = emprestimos_data.groupby(by=emprestimos_data.data.dt.hour).sum()\n",
    "emprestimos_por_hora.index.name = 'horas'\n",
    "emprestimos_por_hora = emprestimos_por_hora.reset_index()\n",
    "emprestimos_por_hora"
   ]
  },
  {
   "cell_type": "code",
   "execution_count": null,
   "metadata": {},
   "outputs": [
    {
     "ename": "",
     "evalue": "",
     "output_type": "error",
     "traceback": [
      "\u001b[1;31mFailed to start the Kernel. \n",
      "\u001b[1;31mUnable to start Kernel 'Python 3.11.9' due to a timeout waiting for the ports to get used. \n",
      "\u001b[1;31mView Jupyter <a href='command:jupyter.viewOutput'>log</a> for further details."
     ]
    }
   ],
   "source": [
    "emprestimos_por_hora = emprestimos_por_hora.sort_values(by='quantidade', ascending=True)"
   ]
  },
  {
   "cell_type": "code",
   "execution_count": null,
   "metadata": {},
   "outputs": [
    {
     "ename": "",
     "evalue": "",
     "output_type": "error",
     "traceback": [
      "\u001b[1;31mFailed to start the Kernel. \n",
      "\u001b[1;31mUnable to start Kernel 'Python 3.11.9' due to a timeout waiting for the ports to get used. \n",
      "\u001b[1;31mView Jupyter <a href='command:jupyter.viewOutput'>log</a> for further details."
     ]
    }
   ],
   "source": [
    "ax = sns.barplot(data = emprestimos_por_hora, y = 'quantidade', x='horas'\n",
    "                 , palette = 'Blues', hue='quantidade', dodge = False)\n",
    "plt.legend([],[], frameon=False)\n",
    "\n",
    "ax.set(xlabel = 'Horário', ylabel = None)\n",
    "ax.yaxis.set_major_formatter(ticker.FuncFormatter(lambda x, p: format(int(x), ',').replace(',', '.')))\n",
    "ax.set_title('Quantidade de exemplares emprestados do SISBI por faixa horária'+'\\n ', size = 20, loc = 'left', color = 'black', weight = 'bold')\n",
    "ax.text(s = 'Período de 2010 a 2020', x= -0.5, y=225000, fontsize = 18, ha = 'left', color = 'grey')\n",
    "ax = ax"
   ]
  },
  {
   "cell_type": "code",
   "execution_count": null,
   "metadata": {},
   "outputs": [
    {
     "ename": "",
     "evalue": "",
     "output_type": "error",
     "traceback": [
      "\u001b[1;31mFailed to start the Kernel. \n",
      "\u001b[1;31mUnable to start Kernel 'Python 3.11.9' due to a timeout waiting for the ports to get used. \n",
      "\u001b[1;31mView Jupyter <a href='command:jupyter.viewOutput'>log</a> for further details."
     ]
    }
   ],
   "source": [
    "emprestimos_completo.head()"
   ]
  },
  {
   "cell_type": "code",
   "execution_count": null,
   "metadata": {},
   "outputs": [
    {
     "ename": "",
     "evalue": "",
     "output_type": "error",
     "traceback": [
      "\u001b[1;31mFailed to start the Kernel. \n",
      "\u001b[1;31mUnable to start Kernel 'Python 3.11.9' due to a timeout waiting for the ports to get used. \n",
      "\u001b[1;31mView Jupyter <a href='command:jupyter.viewOutput'>log</a> for further details."
     ]
    }
   ],
   "source": [
    "# Modificando o tipo de dado da coluna data_emprestimo do DataFrame\n",
    "emprestimos_completo['data_emprestimo'] = pd.to_datetime(emprestimos_completo['data_emprestimo'])"
   ]
  },
  {
   "cell_type": "code",
   "execution_count": null,
   "metadata": {},
   "outputs": [
    {
     "ename": "",
     "evalue": "",
     "output_type": "error",
     "traceback": [
      "\u001b[1;31mFailed to start the Kernel. \n",
      "\u001b[1;31mUnable to start Kernel 'Python 3.11.9' due to a timeout waiting for the ports to get used. \n",
      "\u001b[1;31mView Jupyter <a href='command:jupyter.viewOutput'>log</a> for further details."
     ]
    }
   ],
   "source": [
    "# Verificando valores únicos das variáveis\n",
    "\n",
    "emprestimos_completo.tipo_vinculo_usuario.unique()"
   ]
  },
  {
   "cell_type": "code",
   "execution_count": null,
   "metadata": {},
   "outputs": [
    {
     "ename": "",
     "evalue": "",
     "output_type": "error",
     "traceback": [
      "\u001b[1;31mFailed to start the Kernel. \n",
      "\u001b[1;31mUnable to start Kernel 'Python 3.11.9' due to a timeout waiting for the ports to get used. \n",
      "\u001b[1;31mView Jupyter <a href='command:jupyter.viewOutput'>log</a> for further details."
     ]
    }
   ],
   "source": [
    "emprestimos_completo.colecao.unique()"
   ]
  },
  {
   "cell_type": "code",
   "execution_count": null,
   "metadata": {},
   "outputs": [
    {
     "ename": "",
     "evalue": "",
     "output_type": "error",
     "traceback": [
      "\u001b[1;31mFailed to start the Kernel. \n",
      "\u001b[1;31mUnable to start Kernel 'Python 3.11.9' due to a timeout waiting for the ports to get used. \n",
      "\u001b[1;31mView Jupyter <a href='command:jupyter.viewOutput'>log</a> for further details."
     ]
    }
   ],
   "source": [
    "emprestimos_completo.biblioteca.unique()"
   ]
  },
  {
   "cell_type": "code",
   "execution_count": null,
   "metadata": {},
   "outputs": [
    {
     "ename": "",
     "evalue": "",
     "output_type": "error",
     "traceback": [
      "\u001b[1;31mFailed to start the Kernel. \n",
      "\u001b[1;31mUnable to start Kernel 'Python 3.11.9' due to a timeout waiting for the ports to get used. \n",
      "\u001b[1;31mView Jupyter <a href='command:jupyter.viewOutput'>log</a> for further details."
     ]
    }
   ],
   "source": [
    "emprestimos_completo.CDU_geral.unique()"
   ]
  },
  {
   "cell_type": "code",
   "execution_count": null,
   "metadata": {},
   "outputs": [
    {
     "ename": "",
     "evalue": "",
     "output_type": "error",
     "traceback": [
      "\u001b[1;31mFailed to start the Kernel. \n",
      "\u001b[1;31mUnable to start Kernel 'Python 3.11.9' due to a timeout waiting for the ports to get used. \n",
      "\u001b[1;31mView Jupyter <a href='command:jupyter.viewOutput'>log</a> for further details."
     ]
    }
   ],
   "source": [
    "# Funcção\n",
    "\n",
    "def tabela_frequencia(variavel):\n",
    "    '''\n",
    "    Esta função irá gerar uma tabela de frequeência com percentuais de acordo com a variável passada.\n",
    "    variavel = variavel categórica escolhda de dentro do conjunto de dados emprestimo_completo\n",
    "    '''\n",
    "\n",
    "    dataframe = pd.DataFrame(emprestimos_completo[variavel].value_counts())\n",
    "    dataframe.columns = ['quantidade']\n",
    "    dataframe['percentual'] = round((dataframe['quantidade'] / dataframe['quantidade'].sum()) * 100,1)\n",
    "    return dataframe"
   ]
  },
  {
   "cell_type": "code",
   "execution_count": null,
   "metadata": {},
   "outputs": [
    {
     "ename": "",
     "evalue": "",
     "output_type": "error",
     "traceback": [
      "\u001b[1;31mFailed to start the Kernel. \n",
      "\u001b[1;31mUnable to start Kernel 'Python 3.11.9' due to a timeout waiting for the ports to get used. \n",
      "\u001b[1;31mView Jupyter <a href='command:jupyter.viewOutput'>log</a> for further details."
     ]
    }
   ],
   "source": [
    "# Quantos foram por tipo de vinculo do usuário?\n",
    "\n",
    "tabela_frequencia('tipo_vinculo_usuario')   "
   ]
  },
  {
   "cell_type": "code",
   "execution_count": null,
   "metadata": {},
   "outputs": [
    {
     "ename": "",
     "evalue": "",
     "output_type": "error",
     "traceback": [
      "\u001b[1;31mFailed to start the Kernel. \n",
      "\u001b[1;31mUnable to start Kernel 'Python 3.11.9' due to a timeout waiting for the ports to get used. \n",
      "\u001b[1;31mView Jupyter <a href='command:jupyter.viewOutput'>log</a> for further details."
     ]
    }
   ],
   "source": [
    "# Quantos foram por coleção?\n",
    "\n",
    "tabela_frequencia('colecao')"
   ]
  },
  {
   "cell_type": "code",
   "execution_count": null,
   "metadata": {},
   "outputs": [
    {
     "ename": "",
     "evalue": "",
     "output_type": "error",
     "traceback": [
      "\u001b[1;31mFailed to start the Kernel. \n",
      "\u001b[1;31mUnable to start Kernel 'Python 3.11.9' due to a timeout waiting for the ports to get used. \n",
      "\u001b[1;31mView Jupyter <a href='command:jupyter.viewOutput'>log</a> for further details."
     ]
    }
   ],
   "source": [
    "# quantos foram por biblioteca?\n",
    "\n",
    "tabela_frequencia('biblioteca')"
   ]
  },
  {
   "cell_type": "code",
   "execution_count": null,
   "metadata": {},
   "outputs": [
    {
     "ename": "",
     "evalue": "",
     "output_type": "error",
     "traceback": [
      "\u001b[1;31mFailed to start the Kernel. \n",
      "\u001b[1;31mUnable to start Kernel 'Python 3.11.9' due to a timeout waiting for the ports to get used. \n",
      "\u001b[1;31mView Jupyter <a href='command:jupyter.viewOutput'>log</a> for further details."
     ]
    }
   ],
   "source": [
    "# Quantos foram por CDU?\n",
    "\n",
    "tabela_frequencia('CDU')"
   ]
  },
  {
   "cell_type": "code",
   "execution_count": null,
   "metadata": {},
   "outputs": [
    {
     "ename": "",
     "evalue": "",
     "output_type": "error",
     "traceback": [
      "\u001b[1;31mFailed to start the Kernel. \n",
      "\u001b[1;31mUnable to start Kernel 'Python 3.11.9' due to a timeout waiting for the ports to get used. \n",
      "\u001b[1;31mView Jupyter <a href='command:jupyter.viewOutput'>log</a> for further details."
     ]
    }
   ],
   "source": [
    "# Analisando empréstimo com boxplot\n",
    "\n",
    "emprestimos_completo()"
   ]
  },
  {
   "cell_type": "code",
   "execution_count": null,
   "metadata": {},
   "outputs": [
    {
     "ename": "",
     "evalue": "",
     "output_type": "error",
     "traceback": [
      "\u001b[1;31mFailed to start the Kernel. \n",
      "\u001b[1;31mUnable to start Kernel 'Python 3.11.9' due to a timeout waiting for the ports to get used. \n",
      "\u001b[1;31mView Jupyter <a href='command:jupyter.viewOutput'>log</a> for further details."
     ]
    }
   ],
   "source": [
    "# Alunos de graduação\n",
    "\n",
    "alunos_graduacao = emprestimos_completo.query('tipo_vinculo_usuario == \"Aluno de Graduação\"')\n",
    "alunos_graduacao.colecao.value_counts() "
   ]
  },
  {
   "cell_type": "code",
   "execution_count": null,
   "metadata": {},
   "outputs": [
    {
     "ename": "",
     "evalue": "",
     "output_type": "error",
     "traceback": [
      "\u001b[1;31mFailed to start the Kernel. \n",
      "\u001b[1;31mUnable to start Kernel 'Python 3.11.9' due to a timeout waiting for the ports to get used. \n",
      "\u001b[1;31mView Jupyter <a href='command:jupyter.viewOutput'>log</a> for further details."
     ]
    }
   ],
   "source": [
    "# Criando tabela com a quantidade mesnal por ano\n",
    "\n",
    "alunos_graduacao_acervo_circulante = alunos_graduacao.query('colecao == \"Acervo Circulante\"')\n",
    "alunos_graduacao_acervo_circulante = pd.DataFrame(alunos_graduacao_acervo_circulante)\n",
    "alunos_graduacao_acervo_circulante['ano'] = alunos_graduacao_acervo_circulante['data_emprestimo'].dt.year\n",
    "alunos_graduacao_acervo_circulante['mes'] = alunos_graduacao_acervo_circulante['data_emprestimo'].dt.month \n",
    "alunos_graduacao_acervo_circulante['data_emprestimo'] = pd.to_datetime(alunos_graduacao_acervo_circulante['data_emprestimo'])\n",
    "alunos_graduacao_acervo_circulante = alunos_graduacao_acervo_circulante.loc[:,['ano', 'mes']]\n",
    "alunos_graduacao_acervo_circulante = alunos_graduacao_acervo_circulante.value_counts().to_frame('quantidade').reset_index()\n",
    "alunos_graduacao_acervo_circulante"
   ]
  },
  {
   "cell_type": "code",
   "execution_count": null,
   "metadata": {},
   "outputs": [
    {
     "ename": "",
     "evalue": "",
     "output_type": "error",
     "traceback": [
      "\u001b[1;31mFailed to start the Kernel. \n",
      "\u001b[1;31mUnable to start Kernel 'Python 3.11.9' due to a timeout waiting for the ports to get used. \n",
      "\u001b[1;31mView Jupyter <a href='command:jupyter.viewOutput'>log</a> for further details."
     ]
    }
   ],
   "source": [
    "# Função gera_blox_plot\n",
    "\n",
    "def gera_box_plot(dataset, x,y,titulo,subtitulo):\n",
    "    '''\n",
    "    Esta função irá gerar um gráfico de boxplot.\n",
    "    dataset = conjunto de dados do gráfico\n",
    "    x = variável que será representada no eixo x\n",
    "    y = variável que será representada no eixo y\n",
    "    titulo = título do gráfico\n",
    "    subtitulo = subtítulo do gráfico\n",
    "    '''\n",
    "    sns.set_theme(style = 'darkgrid', palette = 'Blues', font_scalde = 1.3)\n",
    "    plt.figure(figsize = (16,10))\n",
    "\n",
    "    ax = sns.boxplot (y=y,x=x, data = dataset, color = '#4171EF')\n",
    "    ax.yaxis.set_major_formatter(ticker.FuncFormatter(lambda x, p: format(int(x), ',').replace(',', '.'))) \n",
    "\n",
    "    # Definir o limite do eixo y\n",
    "\n",
    "    plt.ylim(0, max(dataset[y])*1.1)\n",
    "    plt.xlabel(None)\n",
    "    plt.ylabel(None)\n",
    "\n",
    "    ax.set_title(titulo+'\\n ', size = 20, loc = 'left', color = 'black', weight = 'bold')\n",
    "    ax.text(s = subtitulo, x= 0.5, y=max(dataset[y])*1.11, fontsize = 18, ha = 'center', color = 'grey') "
   ]
  },
  {
   "cell_type": "code",
   "execution_count": null,
   "metadata": {},
   "outputs": [
    {
     "ename": "",
     "evalue": "",
     "output_type": "error",
     "traceback": [
      "\u001b[1;31mFailed to start the Kernel. \n",
      "\u001b[1;31mUnable to start Kernel 'Python 3.11.9' due to a timeout waiting for the ports to get used. \n",
      "\u001b[1;31mView Jupyter <a href='command:jupyter.viewOutput'>log</a> for further details."
     ]
    }
   ],
   "source": [
    "# Distribuição dos empréstimos mensais realizados pelos alunos de graduação na coleção do acervo circulante\n",
    "\n",
    "gera_box_plot(alunos_graduacao_acervo_circulante, 'ano', 'quantidade', 'Distribuição dos empréstimos mensais', 'Realizados pelos alunos de graduação na coleção do acervo circulante')"
   ]
  },
  {
   "cell_type": "code",
   "execution_count": null,
   "metadata": {},
   "outputs": [
    {
     "ename": "",
     "evalue": "",
     "output_type": "error",
     "traceback": [
      "\u001b[1;31mFailed to start the Kernel. \n",
      "\u001b[1;31mUnable to start Kernel 'Python 3.11.9' due to a timeout waiting for the ports to get used. \n",
      "\u001b[1;31mView Jupyter <a href='command:jupyter.viewOutput'>log</a> for further details."
     ]
    }
   ],
   "source": [
    "# Alunos de pós-graduação\n",
    "\n",
    "alunos_pos_graduacao = emprestimos_completo.query('tipo_vinculo_usuario == \"Aluno de Pós-Graduação\"')\n",
    "alunos_pos_graduacao.colecao.value_counts()"
   ]
  },
  {
   "cell_type": "code",
   "execution_count": null,
   "metadata": {},
   "outputs": [
    {
     "ename": "",
     "evalue": "",
     "output_type": "error",
     "traceback": [
      "\u001b[1;31mFailed to start the Kernel. \n",
      "\u001b[1;31mUnable to start Kernel 'Python 3.11.9' due to a timeout waiting for the ports to get used. \n",
      "\u001b[1;31mView Jupyter <a href='command:jupyter.viewOutput'>log</a> for further details."
     ]
    }
   ],
   "source": [
    "# Criando tabela com a quantidade mensal por ano\n",
    "\n",
    "alunos_graduacao_acervo_circulante = alunos_pos_graduacao.query('colecao == \"Acervo Circulante\"')\n",
    "alunos_graduacao_acervo_circulante = pd.DataFrame(alunos_graduacao_acervo_circulante)\n",
    "alunos_graduacao_acervo_circulante['data_emprestimo'] = pd.to_datetime(alunos_graduacao_acervo_circulante['data_emprestimo'])\n",
    "alunos_graduacao_acervo_circulante['ano'] = alunos_graduacao_acervo_circulante['data_emprestimo'].dt.year\n",
    "alunos_graduacao_acervo_circulante['mes'] = alunos_graduacao_acervo_circulante['data_emprestimo'].dt.month\n",
    "alunos_graduacao_acervo_circulante = alunos_graduacao_acervo_circulante.loc[:,['ano', 'mes']]\n",
    "alunos_graduacao_acervo_circulante = alunos_graduacao_acervo_circulante.value_counts().to_frame('quantidade').reset_index()\n",
    "alunos_graduacao_acervo_circulante"
   ]
  },
  {
   "cell_type": "code",
   "execution_count": null,
   "metadata": {},
   "outputs": [
    {
     "ename": "",
     "evalue": "",
     "output_type": "error",
     "traceback": [
      "\u001b[1;31mFailed to start the Kernel. \n",
      "\u001b[1;31mUnable to start Kernel 'Python 3.11.9' due to a timeout waiting for the ports to get used. \n",
      "\u001b[1;31mView Jupyter <a href='command:jupyter.viewOutput'>log</a> for further details."
     ]
    }
   ],
   "source": [
    "# Distribuição dos empréstimos mensais realizados pelos alunos de pós-graduação na coleção do acervo circulante\n",
    "\n",
    "gera_box_plot(alunos_graduacao_acervo_circulante, 'ano', 'quantidade', 'Distribuição dos empréstimos mensais', 'Realizados pelos alunos de pós-graduação na coleção do acervo circulante')"
   ]
  },
  {
   "cell_type": "markdown",
   "metadata": {},
   "source": [
    "# Proposta 6\n",
    "### Novos dados, Novas análises\n"
   ]
  },
  {
   "cell_type": "code",
   "execution_count": null,
   "metadata": {},
   "outputs": [],
   "source": [
    "cadastro_usuarios_antes_2010 = pd.read_excel('https://raw.github.com/FranciscoFoz/7_Days_of_Code_Alura-Python-Pandas/blob/main/Dia_6-Novos_dados_novas_analises/Datasets/matricula_alunos.xlsx', sheet_name='Até 2010', skiprows=1) \n",
    "cadastro_usuarios_depois_2010 = pd.read_excel('https://raw.github.com/FranciscoFoz/7_Days_of_Code_Alura-Python-Pandas/blob/main/Dia_6-Novos_dados_novas_analises/Datasets/matricula_alunos.xlsx', sheet_name='Depois de 2010', skiprows=1)\n",
    "cadastro_usuarios_antes_2010"
   ]
  },
  {
   "cell_type": "code",
   "execution_count": null,
   "metadata": {},
   "outputs": [],
   "source": [
    "cadastro_usuarios_antes_2010"
   ]
  },
  {
   "cell_type": "code",
   "execution_count": null,
   "metadata": {},
   "outputs": [],
   "source": [
    "cadastro_usuarios_antes_2010.columns= ['matricula_ou_siape', 'tipo_vinculo_usuario', 'curso']\n",
    "cadastro_usuarios_depois_2010"
   ]
  },
  {
   "cell_type": "code",
   "execution_count": null,
   "metadata": {},
   "outputs": [],
   "source": [
    "cadastro_usuarios_depois_2010.columns = ['matricula_ou_siape', 'tipo_vinculo_usuario', 'curso']"
   ]
  },
  {
   "cell_type": "code",
   "execution_count": null,
   "metadata": {},
   "outputs": [],
   "source": [
    "cadastro_usuario_excel = pd.concat([cadastro_usuarios_antes_2010, cadastro_usuarios_depois_2010], ignore_index=True)\n",
    "cadastro_usuario_excel.matricula_ou_siape = cadastro_usuario_excel.matricula_ou_siape.astype(str)\n",
    "cadastro_usuario_excel"
   ]
  },
  {
   "cell_type": "code",
   "execution_count": null,
   "metadata": {},
   "outputs": [],
   "source": [
    "# Arquivo Json\n",
    "\n",
    "cadastro_usuarios_json = pd.read_json('https://raw.github.com/FranciscoFoz/7_Days_of_Code_Alura-Python-Pandas/main/Dia_6-Novos_dados_novas_analises/Datasets/matricula_alunos.json')\n",
    "cadastro_usuarios_json"
   ]
  },
  {
   "cell_type": "code",
   "execution_count": null,
   "metadata": {},
   "outputs": [],
   "source": [
    "cadastro_usuarios_graduacao_json = pd.read_json(cadastro_usuarios_json.registros[0])\n",
    "cadastro_usuarios_graduacao_json"
   ]
  },
  {
   "cell_type": "code",
   "execution_count": null,
   "metadata": {},
   "outputs": [],
   "source": [
    "cadastro_usuarios_graduacao_json.info()"
   ]
  },
  {
   "cell_type": "code",
   "execution_count": null,
   "metadata": {},
   "outputs": [],
   "source": [
    "# Modificando o tipo de dado da matricula\n",
    "\n",
    "cadastro_usuarios_graduacao_json.matricula_ou_siape = cadastro_usuarios_graduacao_json.matricula_ou_siape.astype(float)\n",
    "cadastro_usuarios_graduacao_json.matricula_ou_siape = cadastro_usuarios_graduacao_json.matricula_ou_siape.astype(str)\n",
    "\n"
   ]
  },
  {
   "cell_type": "code",
   "execution_count": null,
   "metadata": {},
   "outputs": [],
   "source": [
    "cadastro_usuarios_graduacao_json.info()"
   ]
  },
  {
   "cell_type": "code",
   "execution_count": null,
   "metadata": {},
   "outputs": [],
   "source": [
    "# Conectando Excel com JSON\n",
    "\n",
    "cadastro_usuarios_cursos = pd.concat([cadastro_usuario_excel, cadastro_usuarios_graduacao_json], ignore_index=True)\n",
    "cadastro_usuarios_cursos"
   ]
  },
  {
   "cell_type": "code",
   "execution_count": null,
   "metadata": {},
   "outputs": [],
   "source": [
    "# Empréstimos dos alunos de graduação de 2015 em diante\n",
    "\n",
    "matricula_data_de_emprestimo = emprestimos_completo.query(\"tipo_vinculo_usuario == 'Aluno de Graduação' \")\n",
    "matricula_data_de_emprestimo = matricula_data_de_emprestimo.loc[:,['matricula_ou_siape', 'data_emprestimo']]\n",
    "matricula_data_de_emprestimo = matricula_data_de_emprestimo.query('data_emprestimo.dt.year > 2015')\n",
    "matricula_data_de_emprestimo = matricula_data_de_emprestimo.reset_index(drop=True)\n",
    "matricula_data_de_emprestimo"
   ]
  },
  {
   "cell_type": "code",
   "execution_count": null,
   "metadata": {},
   "outputs": [],
   "source": [
    "# Excluindo valores nulos de matricula\n",
    "\n",
    "matricula_data_de_emprestimo.insa().sum()"
   ]
  },
  {
   "cell_type": "code",
   "execution_count": null,
   "metadata": {},
   "outputs": [],
   "source": [
    "matricula_data_de_emprestimo = matricula_data_de_emprestimo.dropna()"
   ]
  },
  {
   "cell_type": "code",
   "execution_count": null,
   "metadata": {},
   "outputs": [],
   "source": [
    "# Filtrar cursos selecionados\n",
    "\n",
    "cadastro_usuarios_cursos_selecionados = cadastro_usuarios_cursos.query(\"curso ==['BIBLIOTECONOMIA', 'CIÊNCIAS SOCIAIS', 'COMUNICAÇÃO SOCIAL','DIREITO', 'FILOSOFIA', 'PEDAGOGIA']\")\n",
    "cadastro_usuarios_cursos_selecionados"
   ]
  },
  {
   "cell_type": "code",
   "execution_count": null,
   "metadata": {},
   "outputs": [],
   "source": [
    "# Unir DataFrames do cadastro de usuários com o de empréstimos\n",
    "\n",
    "cadastro_usuarios_cursos_selecionados = pd.matricula_data_de_emprestimo.merge(cadastro_usuarios_cursos_selecionados)\n",
    "cadastro_usuarios_cursos_selecionados"
   ]
  },
  {
   "cell_type": "code",
   "execution_count": null,
   "metadata": {},
   "outputs": [],
   "source": [
    "cadastro_usuarios_cursos_selecionados.data_emprestimo = cadastro_usuarios_cursos_selecionados.data_emprestimo.dt.year"
   ]
  },
  {
   "cell_type": "code",
   "execution_count": null,
   "metadata": {},
   "outputs": [
    {
     "ename": "NameError",
     "evalue": "name 'cadastro_usuarios_cursos_selecionados' is not defined",
     "output_type": "error",
     "traceback": [
      "\u001b[1;31m---------------------------------------------------------------------------\u001b[0m",
      "\u001b[1;31mNameError\u001b[0m                                 Traceback (most recent call last)",
      "Cell \u001b[1;32mIn[2], line 1\u001b[0m\n\u001b[1;32m----> 1\u001b[0m emprestimpos_cursos_selecionados \u001b[38;5;241m=\u001b[39m \u001b[43mcadastro_usuarios_cursos_selecionados\u001b[49m\u001b[38;5;241m.\u001b[39miloc[:,[\u001b[38;5;241m1\u001b[39m,\u001b[38;5;241m3\u001b[39m]]\u001b[38;5;241m.\u001b[39mvalue_counts()\u001b[38;5;241m.\u001b[39mreset_index()\n\u001b[0;32m      2\u001b[0m emprestimpos_cursos_selecionados\u001b[38;5;241m.\u001b[39mcolumns \u001b[38;5;241m=\u001b[39m [\u001b[38;5;124m'\u001b[39m\u001b[38;5;124mANO\u001b[39m\u001b[38;5;124m'\u001b[39m, \u001b[38;5;124m'\u001b[39m\u001b[38;5;124mCURSO\u001b[39m\u001b[38;5;124m'\u001b[39m, \u001b[38;5;124m'\u001b[39m\u001b[38;5;124mQUANTIDADE_EMPESTIMOS\u001b[39m\u001b[38;5;124m'\u001b[39m]\n\u001b[0;32m      3\u001b[0m emprestimpos_cursos_selecionados\n",
      "\u001b[1;31mNameError\u001b[0m: name 'cadastro_usuarios_cursos_selecionados' is not defined"
     ]
    }
   ],
   "source": [
    "emprestimpos_cursos_selecionados = cadastro_usuarios_cursos_selecionados.iloc[:,[1,3]].value_counts().reset_index()\n",
    "emprestimpos_cursos_selecionados.columns = ['ANO', 'CURSO', 'QUANTIDADE_EMPESTIMOS']\n",
    "emprestimpos_cursos_selecionados"
   ]
  },
  {
   "cell_type": "code",
   "execution_count": null,
   "metadata": {},
   "outputs": [],
   "source": [
    "# Tabela Pivotada\n",
    "\n",
    "emprestimpos_tipo_usuario_curso_pivot = emprestimpos_cursos_selecionados.pivot_table(\n",
    "    index = 'CURSO',\n",
    "    columns = 'ANO',\n",
    "    values = 'QUANTIDADE_EMPESTIMOS',\n",
    "    aggfunc = sum,\n",
    "    fill_value = '-',\n",
    "    margins = True,\n",
    "    margins_name = 'Total'\n",
    "    )\n",
    "emprestimpos_tipo_usuario_curso_pivot\n",
    "\n"
   ]
  },
  {
   "cell_type": "markdown",
   "metadata": {},
   "source": [
    "# Proposta 7 - Apresentando resultados em HTML\n"
   ]
  },
  {
   "cell_type": "code",
   "execution_count": null,
   "metadata": {},
   "outputs": [],
   "source": [
    "# Importando cadastro de usuários apenas de pós graduação\n",
    "# Arquivo Excel\n",
    "\n",
    "cadastro_usuarios_antes_2010 = pd.read_excel('https://raw.github.com/FranciscoFoz/7_Days_of_Code_Alura-Python-Pandas/blob/main/Dia_6-Novos_dados_novas_analises/Datasets/matricula_alunos.xlsx', sheet_name='Até 2010', skiprows=1) \n",
    "cadastro_usuarios_depois_2010 = pd.read_excel('https://raw.github.com/FranciscoFoz/7_Days_of_Code_Alura-Python-Pandas/blob/main/Dia_6-Novos_dados_novas_analises/Datasets/matricula_alunos.xlsx', sheet_name='Depois de 2010', skiprows=1)"
   ]
  },
  {
   "cell_type": "code",
   "execution_count": null,
   "metadata": {},
   "outputs": [],
   "source": [
    "cadastro_usuarios_antes_2010"
   ]
  },
  {
   "cell_type": "code",
   "execution_count": null,
   "metadata": {},
   "outputs": [],
   "source": [
    "cadastro_usuarios_antes_2010.columns= ['matricula_ou_siape', 'tipo_vinculo_usuario', 'curso']\n",
    "cadastro_usuarios_depois_2010"
   ]
  },
  {
   "cell_type": "code",
   "execution_count": null,
   "metadata": {},
   "outputs": [],
   "source": [
    "cadastro_usuarios_depois_2010.columns = ['matricula_ou_siape', 'tipo_vinculo_usuario', 'curso']"
   ]
  },
  {
   "cell_type": "code",
   "execution_count": null,
   "metadata": {},
   "outputs": [],
   "source": [
    "cadastro_usuarios_excel = pd.concat([cadastro_usuarios_antes_2010, cadastro_usuarios_depois_2010], ignore_index=True)\n",
    "cadastro_usuarios_excel.matricula_ou_siape = cadastro_usuarios_excel.matricula_ou_siape.astype(str)\n",
    "cadastro_usuarios_excel"
   ]
  },
  {
   "cell_type": "code",
   "execution_count": null,
   "metadata": {},
   "outputs": [],
   "source": [
    "# Arquivo JSON \n",
    "\n",
    "Cadastro_usuarios_json = pd.read_json('https://raw.github.com/FranciscoFoz/7_Days_of_Code_Alura-Python-Pandas/main/Dia_6-Novos_dados_novas_analises/Datasets/matricula_alunos.json')\n",
    "Cadastro_usuarios_json"
   ]
  },
  {
   "cell_type": "code",
   "execution_count": null,
   "metadata": {},
   "outputs": [],
   "source": [
    "cadastro_usuarios_posgraduacao_json = pd.read_json(Cadastro_usuarios_json.registros[1])\n",
    "cadastro_usuarios_posgraduacao_json"
   ]
  },
  {
   "cell_type": "code",
   "execution_count": null,
   "metadata": {},
   "outputs": [],
   "source": [
    "cadastro_usuarios_posgraduacao_json.info()"
   ]
  },
  {
   "cell_type": "code",
   "execution_count": null,
   "metadata": {},
   "outputs": [],
   "source": [
    "# Modificando o tipo de dado da matricula\n",
    "\n",
    "cadastro_usuarios_posgraduacao_json.matricula_ou_siape = cadastro_usuarios_posgraduacao_json.matricula_ou_siape.astype(float)\n",
    "cadastro_usuarios_posgraduacao_json.matricula_ou_siape = cadastro_usuarios_posgraduacao_json.matricula_ou_siape.astype(str)"
   ]
  },
  {
   "cell_type": "code",
   "execution_count": null,
   "metadata": {},
   "outputs": [],
   "source": [
    "cadastro_usuarios_posgraduacao_json.info()"
   ]
  },
  {
   "cell_type": "code",
   "execution_count": null,
   "metadata": {},
   "outputs": [],
   "source": [
    "# Concatenar os arquivos Excel e JSON\n",
    "\n",
    "cadastro_usuarios_cursos = pd.concat([cadastro_usuarios_excel, cadastro_usuarios_posgraduacao_json], ignore_index=True)\n",
    "cadastro_usuarios_cursos"
   ]
  },
  {
   "cell_type": "code",
   "execution_count": null,
   "metadata": {},
   "outputs": [],
   "source": [
    "cadastro_usuarios_pos_graduacao = cadastro_usuarios_posgraduacao_json.query(\"tipo_vinculo_usuario == 'Aluno de Pós-Graduação' \")\n",
    "cadastro_usuarios_pos_graduacao"
   ]
  },
  {
   "cell_type": "code",
   "execution_count": null,
   "metadata": {},
   "outputs": [],
   "source": [
    "# Filtrando empréstimos desde de 2017\n",
    "\n",
    "matricula_data_de_emprestimo_pos_graduacao = emprestimos_completo.loc[:,['matricula_ou_siape', 'data_emprestimo']]\n",
    "matricula_data_de_emprestimo_pos_graduacao = matricula_data_de_emprestimo_pos_graduacao.query('data_emprestimo.dt.year > 2017')\n",
    "matricula_data_de_emprestimo_pos_graduacao = matricula_data_de_emprestimo_pos_graduacao.reset_index(drop=True)  \n",
    "matricula_data_de_emprestimo_pos_graduacao"
   ]
  },
  {
   "cell_type": "code",
   "execution_count": null,
   "metadata": {},
   "outputs": [],
   "source": [
    "# Unindo DataFrames de cadastro de usuários com o de empréstimos\n",
    "\n",
    "emprestimos_pos_graduacao_desde_2017 = matricula_data_de_emprestimo_pos_graduacao.merge(cadastro_usuarios_pos_graduacao)\n",
    "emprestimos_pos_graduacao_desde_2017"
   ]
  },
  {
   "cell_type": "code",
   "execution_count": null,
   "metadata": {},
   "outputs": [],
   "source": [
    "# Modificando o tipo de data\n",
    "\n",
    "emprestimos_pos_graduacao_desde_2017.data_emprestimo = emprestimos_pos_graduacao_desde_2017.data_emprestimo.dt.year"
   ]
  },
  {
   "cell_type": "code",
   "execution_count": null,
   "metadata": {},
   "outputs": [],
   "source": [
    "# Contando valores de empréstimos\n",
    "\n",
    "emprestimos_pos_graduacao_desde_2017 = emprestimos_pos_graduacao_desde_2017.iloc[:,[1,3]].value_counts().reset_index()\n",
    "emprestimos_pos_graduacao_desde_2017.columns = ['ANO', 'CURSO', 'QUANTIDADE_EMPESTIMOS']\n",
    "emprestimos_pos_graduacao_desde_2017.head()"
   ]
  },
  {
   "cell_type": "code",
   "execution_count": null,
   "metadata": {},
   "outputs": [],
   "source": [
    "# Pivotando tabela\n",
    "\n",
    "emprestimos_pos_graduacao_e_curso_pivot = emprestimos_pos_graduacao_desde_2017.pivot_table(\n",
    "    index = 'CURSO',\n",
    "    columns = 'ANO',\n",
    "    values = 'QUANTIDADE_EMPESTIMOS'\n",
    "    )\n",
    "emprestimos_pos_graduacao_e_curso_pivot\n"
   ]
  },
  {
   "cell_type": "code",
   "execution_count": null,
   "metadata": {},
   "outputs": [],
   "source": [
    "# Importando dados da previsão\n",
    "\n",
    "previsao_2022 = pd.read_table('https://raw.github.com/FranciscoFoz/7_Days_of_Code_Alura-Python-Pandas/blob/main/Dia_7-Apresentando_resultados_em_HTML/Dataset/previsao.txt')\n"
   ]
  },
  {
   "cell_type": "code",
   "execution_count": null,
   "metadata": {},
   "outputs": [],
   "source": [
    "# Tratando dados da previsão\n",
    "\n",
    "previsao_2022 = previsao_2022['curso previsao_2022'].str.split(' ', expand=True)\n",
    "previsao_2022"
   ]
  },
  {
   "cell_type": "code",
   "execution_count": null,
   "metadata": {},
   "outputs": [],
   "source": [
    "emprestimos_pos_graduacao_e_curso_pivot"
   ]
  },
  {
   "cell_type": "code",
   "execution_count": null,
   "metadata": {},
   "outputs": [],
   "source": [
    "# Unindo tabelas\n",
    "\n",
    "previsao_2022.index = emprestimos_pos_graduacao_e_curso_pivot.index\n",
    "emprestimos_pos_graduacao_e_curso_pivot['2022'] = previsao_2022.iloc[:,1]\n",
    "emprestimos_pos_graduacao_e_curso_pivot"
   ]
  },
  {
   "cell_type": "code",
   "execution_count": null,
   "metadata": {},
   "outputs": [],
   "source": [
    "# Modificando o tipo de dado\n",
    "\n",
    "emprestimos_pos_graduacao_e_curso_pivot['2022'] = emprestimos_pos_graduacao_e_curso_pivot['2022'].astype(int)"
   ]
  },
  {
   "cell_type": "code",
   "execution_count": null,
   "metadata": {},
   "outputs": [],
   "source": [
    "# Pivotando tabela\n",
    "\n",
    "emprestimos_pos_graduacao_e_curso_pivot"
   ]
  },
  {
   "cell_type": "code",
   "execution_count": null,
   "metadata": {},
   "outputs": [],
   "source": [
    "# Criando função para diferença percentual\n",
    "\n",
    "def diferenca_percentual_ano_anterior(x,y):\n",
    "    return round(((x/y*100)-100),2)"
   ]
  },
  {
   "cell_type": "code",
   "execution_count": null,
   "metadata": {},
   "outputs": [],
   "source": [
    "# Calculando a diferença percentual\n",
    "\n",
    "percentual_2018 = diferenca_percentual_ano_anterior(emprestimos_pos_graduacao_e_curso_pivot.iloc[:,1],emprestimos_pos_graduacao_e_curso_pivot.iloc[:,0])\n",
    "percentual_2019 = diferenca_percentual_ano_anterior(emprestimos_pos_graduacao_e_curso_pivot.iloc[:,2],emprestimos_pos_graduacao_e_curso_pivot.iloc[:,1])\n",
    "percentual_2022 = diferenca_percentual_ano_anterior(emprestimos_pos_graduacao_e_curso_pivot.iloc[:,3],emprestimos_pos_graduacao_e_curso_pivot.iloc[:,2])\n"
   ]
  },
  {
   "cell_type": "code",
   "execution_count": null,
   "metadata": {},
   "outputs": [],
   "source": [
    "# Criando DataFrame com as diferenças percentuais\n",
    "\n",
    "percentual = pd.DataFrame({'2018': percentual_2018, '2019': percentual_2019, '2022': percentual_2022})\n",
    "percentual"
   ]
  },
  {
   "cell_type": "code",
   "execution_count": null,
   "metadata": {},
   "outputs": [],
   "source": [
    "# Formatando dados da tabela\n",
    "\n",
    "percentual.reset_index(inplace=True)\n",
    "percentual.columns = percentual.columns.str.capitalize()\n",
    "percentual.Curso = percentual.Curso.str.capitalize()\n"
   ]
  },
  {
   "cell_type": "code",
   "execution_count": null,
   "metadata": {},
   "outputs": [],
   "source": [
    "percentual"
   ]
  },
  {
   "cell_type": "code",
   "execution_count": null,
   "metadata": {},
   "outputs": [],
   "source": [
    "# Criando tabela em HTML\n",
    "# Estruturando formatação de tabela em css\n",
    "\n",
    "th_props = [\n",
    "    ('font-size', '1.4rem'),\n",
    "    ('text-align', 'center'),\n",
    "    ('font-weight', 'bold'),\n",
    "    ('color', 'whitesmoke'),\n",
    "    ('background-color', '#001692'),\n",
    "    ('border-radius', '0.25rem'),\n",
    "    ('box-shadow', '0 0 1rem grey')\n",
    "    ]\n",
    "td_props = [\n",
    "    ('font-size', '1rem'),\n",
    "    ('padding', '0.5rem'),\n",
    "    ('text-align', 'left'),\n",
    "    ('font-weight', 'bold'),\n",
    "    ('border-bottom', '0.1rem solid lightgrey')\n",
    "    ]\n",
    "styles = [\n",
    "    dict(selector=\"th\", props=th_props),\n",
    "    dict(selector=\"td\", props=td_props)\n",
    "    ]"
   ]
  },
  {
   "cell_type": "code",
   "execution_count": null,
   "metadata": {},
   "outputs": [],
   "source": [
    "# Gerando tabela em HTML\n",
    "\n",
    "percentual.style.text_gradient(cmap='RdYlGn', low = 1, axis = 1, vmax = 0.1, vmin = 0)\\\n",
    "                              .format(\"{:.2f}\", subset = ['2018', '2019', '2022'])\\\n",
    "                                .hide_index()\\\n",
    "                                .set_table_styles(styles)\\\n",
    "                                .to_html('teste.html', doctype_html = True, table_attributes = 'ALIGN=LEFT WIDTH=50% CELLSPACING=5')\n",
    "                                "
   ]
  }
 ],
 "metadata": {
  "kernelspec": {
   "display_name": "Python 3",
   "language": "python",
   "name": "python3"
  },
  "language_info": {
   "codemirror_mode": {
    "name": "ipython",
    "version": 3
   },
   "file_extension": ".py",
   "mimetype": "text/x-python",
   "name": "python",
   "nbconvert_exporter": "python",
   "pygments_lexer": "ipython3",
   "version": "3.11.9"
  }
 },
 "nbformat": 4,
 "nbformat_minor": 2
}
